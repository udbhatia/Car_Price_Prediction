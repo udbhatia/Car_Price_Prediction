{
 "cells": [
  {
   "cell_type": "markdown",
   "metadata": {
    "papermill": {
     "duration": 0.050434,
     "end_time": "2021-02-14T10:45:06.833370",
     "exception": false,
     "start_time": "2021-02-14T10:45:06.782936",
     "status": "completed"
    },
    "tags": []
   },
   "source": [
    "# Car Price Prediction using Machine Learning\n",
    "\n",
    "#### Table of content\n",
    "1. Importing libraries\n",
    "2. Reading dataset\n",
    "3. Data Preprocessing \n",
    "      * Checking missing values\n",
    "      * Checking for Unique values\n",
    "4. Exploratory Data Analysis\n",
    "      * Visualization\n",
    "      * Looking for extreme high data entry\n",
    "      * Understanding relationship between features\n",
    "5. Model Building \n",
    "      * Creating dummy variables\n",
    "      * Feature Importance\n",
    "      * Linear Regression\n",
    "      * Support Vector Regressor\n",
    "      * Random Forest Regressor"
   ]
  },
  {
   "cell_type": "markdown",
   "metadata": {
    "papermill": {
     "duration": 0.044785,
     "end_time": "2021-02-14T10:45:06.922471",
     "exception": false,
     "start_time": "2021-02-14T10:45:06.877686",
     "status": "completed"
    },
    "tags": []
   },
   "source": [
    "**Importing the libraries**"
   ]
  },
  {
   "cell_type": "code",
   "execution_count": 1,
   "metadata": {
    "_cell_guid": "b1076dfc-b9ad-4769-8c92-a6c4dae69d19",
    "_uuid": "8f2839f25d086af736a60e9eeb907d3b93b6e0e5",
    "execution": {
     "iopub.execute_input": "2021-02-14T10:45:07.019333Z",
     "iopub.status.busy": "2021-02-14T10:45:07.018588Z",
     "iopub.status.idle": "2021-02-14T10:45:07.033136Z",
     "shell.execute_reply": "2021-02-14T10:45:07.032396Z"
    },
    "papermill": {
     "duration": 0.066067,
     "end_time": "2021-02-14T10:45:07.033388",
     "exception": false,
     "start_time": "2021-02-14T10:45:06.967321",
     "status": "completed"
    },
    "tags": []
   },
   "outputs": [
    {
     "name": "stdout",
     "output_type": "stream",
     "text": [
      "/kaggle/input/vehicle-dataset-from-cardekho/car data.csv\n",
      "/kaggle/input/vehicle-dataset-from-cardekho/CAR DETAILS FROM CAR DEKHO.csv\n",
      "/kaggle/input/vehicle-dataset-from-cardekho/Car details v3.csv\n"
     ]
    }
   ],
   "source": [
    "# This Python 3 environment comes with many helpful analytics libraries installed\n",
    "# It is defined by the kaggle/python Docker image: https://github.com/kaggle/docker-python\n",
    "# For example, here's several helpful packages to load\n",
    "\n",
    "import numpy as np # linear algebra\n",
    "import pandas as pd # data processing, CSV file I/O (e.g. pd.read_csv)\n",
    "\n",
    "# Input data files are available in the read-only \"../input/\" directory\n",
    "# For example, running this (by clicking run or pressing Shift+Enter) will list all files under the input directory\n",
    "\n",
    "import os\n",
    "for dirname, _, filenames in os.walk('/kaggle/input'):\n",
    "    for filename in filenames:\n",
    "        print(os.path.join(dirname, filename))\n",
    "\n",
    "# You can write up to 20GB to the current directory (/kaggle/working/) that gets preserved as output when you create a version using \"Save & Run All\" \n",
    "# You can also write temporary files to /kaggle/temp/, but they won't be saved outside of the current session"
   ]
  },
  {
   "cell_type": "markdown",
   "metadata": {
    "papermill": {
     "duration": 0.044699,
     "end_time": "2021-02-14T10:45:07.124086",
     "exception": false,
     "start_time": "2021-02-14T10:45:07.079387",
     "status": "completed"
    },
    "tags": []
   },
   "source": [
    "**Reading the dataset**"
   ]
  },
  {
   "cell_type": "code",
   "execution_count": 2,
   "metadata": {
    "execution": {
     "iopub.execute_input": "2021-02-14T10:45:07.221350Z",
     "iopub.status.busy": "2021-02-14T10:45:07.220349Z",
     "iopub.status.idle": "2021-02-14T10:45:07.236447Z",
     "shell.execute_reply": "2021-02-14T10:45:07.237012Z"
    },
    "papermill": {
     "duration": 0.068176,
     "end_time": "2021-02-14T10:45:07.237252",
     "exception": false,
     "start_time": "2021-02-14T10:45:07.169076",
     "status": "completed"
    },
    "tags": []
   },
   "outputs": [],
   "source": [
    "data=pd.read_csv(\"../input/vehicle-dataset-from-cardekho/car data.csv\")"
   ]
  },
  {
   "cell_type": "markdown",
   "metadata": {
    "papermill": {
     "duration": 0.047293,
     "end_time": "2021-02-14T10:45:07.331379",
     "exception": false,
     "start_time": "2021-02-14T10:45:07.284086",
     "status": "completed"
    },
    "tags": []
   },
   "source": [
    "**Having a look on the dataset**"
   ]
  },
  {
   "cell_type": "code",
   "execution_count": 3,
   "metadata": {
    "execution": {
     "iopub.execute_input": "2021-02-14T10:45:07.426998Z",
     "iopub.status.busy": "2021-02-14T10:45:07.425970Z",
     "iopub.status.idle": "2021-02-14T10:45:07.462979Z",
     "shell.execute_reply": "2021-02-14T10:45:07.463554Z"
    },
    "papermill": {
     "duration": 0.086699,
     "end_time": "2021-02-14T10:45:07.463795",
     "exception": false,
     "start_time": "2021-02-14T10:45:07.377096",
     "status": "completed"
    },
    "tags": []
   },
   "outputs": [
    {
     "data": {
      "text/html": [
       "<div>\n",
       "<style scoped>\n",
       "    .dataframe tbody tr th:only-of-type {\n",
       "        vertical-align: middle;\n",
       "    }\n",
       "\n",
       "    .dataframe tbody tr th {\n",
       "        vertical-align: top;\n",
       "    }\n",
       "\n",
       "    .dataframe thead th {\n",
       "        text-align: right;\n",
       "    }\n",
       "</style>\n",
       "<table border=\"1\" class=\"dataframe\">\n",
       "  <thead>\n",
       "    <tr style=\"text-align: right;\">\n",
       "      <th></th>\n",
       "      <th>Car_Name</th>\n",
       "      <th>Year</th>\n",
       "      <th>Selling_Price</th>\n",
       "      <th>Present_Price</th>\n",
       "      <th>Kms_Driven</th>\n",
       "      <th>Fuel_Type</th>\n",
       "      <th>Seller_Type</th>\n",
       "      <th>Transmission</th>\n",
       "      <th>Owner</th>\n",
       "    </tr>\n",
       "  </thead>\n",
       "  <tbody>\n",
       "    <tr>\n",
       "      <th>0</th>\n",
       "      <td>ritz</td>\n",
       "      <td>2014</td>\n",
       "      <td>3.35</td>\n",
       "      <td>5.59</td>\n",
       "      <td>27000</td>\n",
       "      <td>Petrol</td>\n",
       "      <td>Dealer</td>\n",
       "      <td>Manual</td>\n",
       "      <td>0</td>\n",
       "    </tr>\n",
       "    <tr>\n",
       "      <th>1</th>\n",
       "      <td>sx4</td>\n",
       "      <td>2013</td>\n",
       "      <td>4.75</td>\n",
       "      <td>9.54</td>\n",
       "      <td>43000</td>\n",
       "      <td>Diesel</td>\n",
       "      <td>Dealer</td>\n",
       "      <td>Manual</td>\n",
       "      <td>0</td>\n",
       "    </tr>\n",
       "    <tr>\n",
       "      <th>2</th>\n",
       "      <td>ciaz</td>\n",
       "      <td>2017</td>\n",
       "      <td>7.25</td>\n",
       "      <td>9.85</td>\n",
       "      <td>6900</td>\n",
       "      <td>Petrol</td>\n",
       "      <td>Dealer</td>\n",
       "      <td>Manual</td>\n",
       "      <td>0</td>\n",
       "    </tr>\n",
       "    <tr>\n",
       "      <th>3</th>\n",
       "      <td>wagon r</td>\n",
       "      <td>2011</td>\n",
       "      <td>2.85</td>\n",
       "      <td>4.15</td>\n",
       "      <td>5200</td>\n",
       "      <td>Petrol</td>\n",
       "      <td>Dealer</td>\n",
       "      <td>Manual</td>\n",
       "      <td>0</td>\n",
       "    </tr>\n",
       "    <tr>\n",
       "      <th>4</th>\n",
       "      <td>swift</td>\n",
       "      <td>2014</td>\n",
       "      <td>4.60</td>\n",
       "      <td>6.87</td>\n",
       "      <td>42450</td>\n",
       "      <td>Diesel</td>\n",
       "      <td>Dealer</td>\n",
       "      <td>Manual</td>\n",
       "      <td>0</td>\n",
       "    </tr>\n",
       "  </tbody>\n",
       "</table>\n",
       "</div>"
      ],
      "text/plain": [
       "  Car_Name  Year  Selling_Price  Present_Price  Kms_Driven Fuel_Type  \\\n",
       "0     ritz  2014           3.35           5.59       27000    Petrol   \n",
       "1      sx4  2013           4.75           9.54       43000    Diesel   \n",
       "2     ciaz  2017           7.25           9.85        6900    Petrol   \n",
       "3  wagon r  2011           2.85           4.15        5200    Petrol   \n",
       "4    swift  2014           4.60           6.87       42450    Diesel   \n",
       "\n",
       "  Seller_Type Transmission  Owner  \n",
       "0      Dealer       Manual      0  \n",
       "1      Dealer       Manual      0  \n",
       "2      Dealer       Manual      0  \n",
       "3      Dealer       Manual      0  \n",
       "4      Dealer       Manual      0  "
      ]
     },
     "execution_count": 3,
     "metadata": {},
     "output_type": "execute_result"
    }
   ],
   "source": [
    "data.head()"
   ]
  },
  {
   "cell_type": "code",
   "execution_count": 4,
   "metadata": {
    "execution": {
     "iopub.execute_input": "2021-02-14T10:45:07.559761Z",
     "iopub.status.busy": "2021-02-14T10:45:07.559137Z",
     "iopub.status.idle": "2021-02-14T10:45:07.564315Z",
     "shell.execute_reply": "2021-02-14T10:45:07.564981Z"
    },
    "papermill": {
     "duration": 0.0557,
     "end_time": "2021-02-14T10:45:07.565163",
     "exception": false,
     "start_time": "2021-02-14T10:45:07.509463",
     "status": "completed"
    },
    "tags": []
   },
   "outputs": [
    {
     "data": {
      "text/plain": [
       "(301, 9)"
      ]
     },
     "execution_count": 4,
     "metadata": {},
     "output_type": "execute_result"
    }
   ],
   "source": [
    "data.shape"
   ]
  },
  {
   "cell_type": "markdown",
   "metadata": {
    "papermill": {
     "duration": 0.045641,
     "end_time": "2021-02-14T10:45:07.657166",
     "exception": false,
     "start_time": "2021-02-14T10:45:07.611525",
     "status": "completed"
    },
    "tags": []
   },
   "source": [
    "**Checking for missing/null values**"
   ]
  },
  {
   "cell_type": "code",
   "execution_count": 5,
   "metadata": {
    "execution": {
     "iopub.execute_input": "2021-02-14T10:45:07.757488Z",
     "iopub.status.busy": "2021-02-14T10:45:07.756756Z",
     "iopub.status.idle": "2021-02-14T10:45:07.779100Z",
     "shell.execute_reply": "2021-02-14T10:45:07.779622Z"
    },
    "papermill": {
     "duration": 0.076427,
     "end_time": "2021-02-14T10:45:07.779824",
     "exception": false,
     "start_time": "2021-02-14T10:45:07.703397",
     "status": "completed"
    },
    "tags": []
   },
   "outputs": [
    {
     "data": {
      "text/html": [
       "<div>\n",
       "<style scoped>\n",
       "    .dataframe tbody tr th:only-of-type {\n",
       "        vertical-align: middle;\n",
       "    }\n",
       "\n",
       "    .dataframe tbody tr th {\n",
       "        vertical-align: top;\n",
       "    }\n",
       "\n",
       "    .dataframe thead th {\n",
       "        text-align: right;\n",
       "    }\n",
       "</style>\n",
       "<table border=\"1\" class=\"dataframe\">\n",
       "  <thead>\n",
       "    <tr style=\"text-align: right;\">\n",
       "      <th></th>\n",
       "      <th>Car_Name</th>\n",
       "      <th>Year</th>\n",
       "      <th>Selling_Price</th>\n",
       "      <th>Present_Price</th>\n",
       "      <th>Kms_Driven</th>\n",
       "      <th>Fuel_Type</th>\n",
       "      <th>Seller_Type</th>\n",
       "      <th>Transmission</th>\n",
       "      <th>Owner</th>\n",
       "    </tr>\n",
       "  </thead>\n",
       "  <tbody>\n",
       "    <tr>\n",
       "      <th>0</th>\n",
       "      <td>False</td>\n",
       "      <td>False</td>\n",
       "      <td>False</td>\n",
       "      <td>False</td>\n",
       "      <td>False</td>\n",
       "      <td>False</td>\n",
       "      <td>False</td>\n",
       "      <td>False</td>\n",
       "      <td>False</td>\n",
       "    </tr>\n",
       "    <tr>\n",
       "      <th>1</th>\n",
       "      <td>False</td>\n",
       "      <td>False</td>\n",
       "      <td>False</td>\n",
       "      <td>False</td>\n",
       "      <td>False</td>\n",
       "      <td>False</td>\n",
       "      <td>False</td>\n",
       "      <td>False</td>\n",
       "      <td>False</td>\n",
       "    </tr>\n",
       "    <tr>\n",
       "      <th>2</th>\n",
       "      <td>False</td>\n",
       "      <td>False</td>\n",
       "      <td>False</td>\n",
       "      <td>False</td>\n",
       "      <td>False</td>\n",
       "      <td>False</td>\n",
       "      <td>False</td>\n",
       "      <td>False</td>\n",
       "      <td>False</td>\n",
       "    </tr>\n",
       "    <tr>\n",
       "      <th>3</th>\n",
       "      <td>False</td>\n",
       "      <td>False</td>\n",
       "      <td>False</td>\n",
       "      <td>False</td>\n",
       "      <td>False</td>\n",
       "      <td>False</td>\n",
       "      <td>False</td>\n",
       "      <td>False</td>\n",
       "      <td>False</td>\n",
       "    </tr>\n",
       "    <tr>\n",
       "      <th>4</th>\n",
       "      <td>False</td>\n",
       "      <td>False</td>\n",
       "      <td>False</td>\n",
       "      <td>False</td>\n",
       "      <td>False</td>\n",
       "      <td>False</td>\n",
       "      <td>False</td>\n",
       "      <td>False</td>\n",
       "      <td>False</td>\n",
       "    </tr>\n",
       "    <tr>\n",
       "      <th>...</th>\n",
       "      <td>...</td>\n",
       "      <td>...</td>\n",
       "      <td>...</td>\n",
       "      <td>...</td>\n",
       "      <td>...</td>\n",
       "      <td>...</td>\n",
       "      <td>...</td>\n",
       "      <td>...</td>\n",
       "      <td>...</td>\n",
       "    </tr>\n",
       "    <tr>\n",
       "      <th>296</th>\n",
       "      <td>False</td>\n",
       "      <td>False</td>\n",
       "      <td>False</td>\n",
       "      <td>False</td>\n",
       "      <td>False</td>\n",
       "      <td>False</td>\n",
       "      <td>False</td>\n",
       "      <td>False</td>\n",
       "      <td>False</td>\n",
       "    </tr>\n",
       "    <tr>\n",
       "      <th>297</th>\n",
       "      <td>False</td>\n",
       "      <td>False</td>\n",
       "      <td>False</td>\n",
       "      <td>False</td>\n",
       "      <td>False</td>\n",
       "      <td>False</td>\n",
       "      <td>False</td>\n",
       "      <td>False</td>\n",
       "      <td>False</td>\n",
       "    </tr>\n",
       "    <tr>\n",
       "      <th>298</th>\n",
       "      <td>False</td>\n",
       "      <td>False</td>\n",
       "      <td>False</td>\n",
       "      <td>False</td>\n",
       "      <td>False</td>\n",
       "      <td>False</td>\n",
       "      <td>False</td>\n",
       "      <td>False</td>\n",
       "      <td>False</td>\n",
       "    </tr>\n",
       "    <tr>\n",
       "      <th>299</th>\n",
       "      <td>False</td>\n",
       "      <td>False</td>\n",
       "      <td>False</td>\n",
       "      <td>False</td>\n",
       "      <td>False</td>\n",
       "      <td>False</td>\n",
       "      <td>False</td>\n",
       "      <td>False</td>\n",
       "      <td>False</td>\n",
       "    </tr>\n",
       "    <tr>\n",
       "      <th>300</th>\n",
       "      <td>False</td>\n",
       "      <td>False</td>\n",
       "      <td>False</td>\n",
       "      <td>False</td>\n",
       "      <td>False</td>\n",
       "      <td>False</td>\n",
       "      <td>False</td>\n",
       "      <td>False</td>\n",
       "      <td>False</td>\n",
       "    </tr>\n",
       "  </tbody>\n",
       "</table>\n",
       "<p>301 rows × 9 columns</p>\n",
       "</div>"
      ],
      "text/plain": [
       "     Car_Name   Year  Selling_Price  Present_Price  Kms_Driven  Fuel_Type  \\\n",
       "0       False  False          False          False       False      False   \n",
       "1       False  False          False          False       False      False   \n",
       "2       False  False          False          False       False      False   \n",
       "3       False  False          False          False       False      False   \n",
       "4       False  False          False          False       False      False   \n",
       "..        ...    ...            ...            ...         ...        ...   \n",
       "296     False  False          False          False       False      False   \n",
       "297     False  False          False          False       False      False   \n",
       "298     False  False          False          False       False      False   \n",
       "299     False  False          False          False       False      False   \n",
       "300     False  False          False          False       False      False   \n",
       "\n",
       "     Seller_Type  Transmission  Owner  \n",
       "0          False         False  False  \n",
       "1          False         False  False  \n",
       "2          False         False  False  \n",
       "3          False         False  False  \n",
       "4          False         False  False  \n",
       "..           ...           ...    ...  \n",
       "296        False         False  False  \n",
       "297        False         False  False  \n",
       "298        False         False  False  \n",
       "299        False         False  False  \n",
       "300        False         False  False  \n",
       "\n",
       "[301 rows x 9 columns]"
      ]
     },
     "execution_count": 5,
     "metadata": {},
     "output_type": "execute_result"
    }
   ],
   "source": [
    "data.isnull()"
   ]
  },
  {
   "cell_type": "code",
   "execution_count": 6,
   "metadata": {
    "execution": {
     "iopub.execute_input": "2021-02-14T10:45:07.881075Z",
     "iopub.status.busy": "2021-02-14T10:45:07.880358Z",
     "iopub.status.idle": "2021-02-14T10:45:07.888476Z",
     "shell.execute_reply": "2021-02-14T10:45:07.888969Z"
    },
    "papermill": {
     "duration": 0.059351,
     "end_time": "2021-02-14T10:45:07.889165",
     "exception": false,
     "start_time": "2021-02-14T10:45:07.829814",
     "status": "completed"
    },
    "tags": []
   },
   "outputs": [
    {
     "data": {
      "text/plain": [
       "Car_Name         0\n",
       "Year             0\n",
       "Selling_Price    0\n",
       "Present_Price    0\n",
       "Kms_Driven       0\n",
       "Fuel_Type        0\n",
       "Seller_Type      0\n",
       "Transmission     0\n",
       "Owner            0\n",
       "dtype: int64"
      ]
     },
     "execution_count": 6,
     "metadata": {},
     "output_type": "execute_result"
    }
   ],
   "source": [
    "data.isnull().sum()"
   ]
  },
  {
   "cell_type": "markdown",
   "metadata": {
    "papermill": {
     "duration": 0.04707,
     "end_time": "2021-02-14T10:45:07.983837",
     "exception": false,
     "start_time": "2021-02-14T10:45:07.936767",
     "status": "completed"
    },
    "tags": []
   },
   "source": [
    "From the above output cell we can see there is no missing/null values in our dataset"
   ]
  },
  {
   "cell_type": "code",
   "execution_count": 7,
   "metadata": {
    "execution": {
     "iopub.execute_input": "2021-02-14T10:45:08.081847Z",
     "iopub.status.busy": "2021-02-14T10:45:08.081188Z",
     "iopub.status.idle": "2021-02-14T10:45:08.113477Z",
     "shell.execute_reply": "2021-02-14T10:45:08.112796Z"
    },
    "papermill": {
     "duration": 0.082532,
     "end_time": "2021-02-14T10:45:08.113643",
     "exception": false,
     "start_time": "2021-02-14T10:45:08.031111",
     "status": "completed"
    },
    "tags": []
   },
   "outputs": [
    {
     "data": {
      "text/html": [
       "<div>\n",
       "<style scoped>\n",
       "    .dataframe tbody tr th:only-of-type {\n",
       "        vertical-align: middle;\n",
       "    }\n",
       "\n",
       "    .dataframe tbody tr th {\n",
       "        vertical-align: top;\n",
       "    }\n",
       "\n",
       "    .dataframe thead th {\n",
       "        text-align: right;\n",
       "    }\n",
       "</style>\n",
       "<table border=\"1\" class=\"dataframe\">\n",
       "  <thead>\n",
       "    <tr style=\"text-align: right;\">\n",
       "      <th></th>\n",
       "      <th>Year</th>\n",
       "      <th>Selling_Price</th>\n",
       "      <th>Present_Price</th>\n",
       "      <th>Kms_Driven</th>\n",
       "      <th>Owner</th>\n",
       "    </tr>\n",
       "  </thead>\n",
       "  <tbody>\n",
       "    <tr>\n",
       "      <th>count</th>\n",
       "      <td>301.000000</td>\n",
       "      <td>301.000000</td>\n",
       "      <td>301.000000</td>\n",
       "      <td>301.000000</td>\n",
       "      <td>301.000000</td>\n",
       "    </tr>\n",
       "    <tr>\n",
       "      <th>mean</th>\n",
       "      <td>2013.627907</td>\n",
       "      <td>4.661296</td>\n",
       "      <td>7.628472</td>\n",
       "      <td>36947.205980</td>\n",
       "      <td>0.043189</td>\n",
       "    </tr>\n",
       "    <tr>\n",
       "      <th>std</th>\n",
       "      <td>2.891554</td>\n",
       "      <td>5.082812</td>\n",
       "      <td>8.644115</td>\n",
       "      <td>38886.883882</td>\n",
       "      <td>0.247915</td>\n",
       "    </tr>\n",
       "    <tr>\n",
       "      <th>min</th>\n",
       "      <td>2003.000000</td>\n",
       "      <td>0.100000</td>\n",
       "      <td>0.320000</td>\n",
       "      <td>500.000000</td>\n",
       "      <td>0.000000</td>\n",
       "    </tr>\n",
       "    <tr>\n",
       "      <th>25%</th>\n",
       "      <td>2012.000000</td>\n",
       "      <td>0.900000</td>\n",
       "      <td>1.200000</td>\n",
       "      <td>15000.000000</td>\n",
       "      <td>0.000000</td>\n",
       "    </tr>\n",
       "    <tr>\n",
       "      <th>50%</th>\n",
       "      <td>2014.000000</td>\n",
       "      <td>3.600000</td>\n",
       "      <td>6.400000</td>\n",
       "      <td>32000.000000</td>\n",
       "      <td>0.000000</td>\n",
       "    </tr>\n",
       "    <tr>\n",
       "      <th>75%</th>\n",
       "      <td>2016.000000</td>\n",
       "      <td>6.000000</td>\n",
       "      <td>9.900000</td>\n",
       "      <td>48767.000000</td>\n",
       "      <td>0.000000</td>\n",
       "    </tr>\n",
       "    <tr>\n",
       "      <th>max</th>\n",
       "      <td>2018.000000</td>\n",
       "      <td>35.000000</td>\n",
       "      <td>92.600000</td>\n",
       "      <td>500000.000000</td>\n",
       "      <td>3.000000</td>\n",
       "    </tr>\n",
       "  </tbody>\n",
       "</table>\n",
       "</div>"
      ],
      "text/plain": [
       "              Year  Selling_Price  Present_Price     Kms_Driven       Owner\n",
       "count   301.000000     301.000000     301.000000     301.000000  301.000000\n",
       "mean   2013.627907       4.661296       7.628472   36947.205980    0.043189\n",
       "std       2.891554       5.082812       8.644115   38886.883882    0.247915\n",
       "min    2003.000000       0.100000       0.320000     500.000000    0.000000\n",
       "25%    2012.000000       0.900000       1.200000   15000.000000    0.000000\n",
       "50%    2014.000000       3.600000       6.400000   32000.000000    0.000000\n",
       "75%    2016.000000       6.000000       9.900000   48767.000000    0.000000\n",
       "max    2018.000000      35.000000      92.600000  500000.000000    3.000000"
      ]
     },
     "execution_count": 7,
     "metadata": {},
     "output_type": "execute_result"
    }
   ],
   "source": [
    "data.describe()"
   ]
  },
  {
   "cell_type": "code",
   "execution_count": 8,
   "metadata": {
    "execution": {
     "iopub.execute_input": "2021-02-14T10:45:08.231851Z",
     "iopub.status.busy": "2021-02-14T10:45:08.231178Z",
     "iopub.status.idle": "2021-02-14T10:45:08.236857Z",
     "shell.execute_reply": "2021-02-14T10:45:08.236095Z"
    },
    "papermill": {
     "duration": 0.073498,
     "end_time": "2021-02-14T10:45:08.237093",
     "exception": false,
     "start_time": "2021-02-14T10:45:08.163595",
     "status": "completed"
    },
    "tags": []
   },
   "outputs": [
    {
     "name": "stdout",
     "output_type": "stream",
     "text": [
      "<class 'pandas.core.frame.DataFrame'>\n",
      "RangeIndex: 301 entries, 0 to 300\n",
      "Data columns (total 9 columns):\n",
      " #   Column         Non-Null Count  Dtype  \n",
      "---  ------         --------------  -----  \n",
      " 0   Car_Name       301 non-null    object \n",
      " 1   Year           301 non-null    int64  \n",
      " 2   Selling_Price  301 non-null    float64\n",
      " 3   Present_Price  301 non-null    float64\n",
      " 4   Kms_Driven     301 non-null    int64  \n",
      " 5   Fuel_Type      301 non-null    object \n",
      " 6   Seller_Type    301 non-null    object \n",
      " 7   Transmission   301 non-null    object \n",
      " 8   Owner          301 non-null    int64  \n",
      "dtypes: float64(2), int64(3), object(4)\n",
      "memory usage: 21.3+ KB\n"
     ]
    }
   ],
   "source": [
    "data.info()"
   ]
  },
  {
   "cell_type": "markdown",
   "metadata": {
    "papermill": {
     "duration": 0.047895,
     "end_time": "2021-02-14T10:45:08.335477",
     "exception": false,
     "start_time": "2021-02-14T10:45:08.287582",
     "status": "completed"
    },
    "tags": []
   },
   "source": [
    "**Cheching for unique values in different coloumns**"
   ]
  },
  {
   "cell_type": "code",
   "execution_count": 9,
   "metadata": {
    "execution": {
     "iopub.execute_input": "2021-02-14T10:45:08.442589Z",
     "iopub.status.busy": "2021-02-14T10:45:08.439307Z",
     "iopub.status.idle": "2021-02-14T10:45:08.447367Z",
     "shell.execute_reply": "2021-02-14T10:45:08.448148Z"
    },
    "papermill": {
     "duration": 0.064535,
     "end_time": "2021-02-14T10:45:08.448337",
     "exception": false,
     "start_time": "2021-02-14T10:45:08.383802",
     "status": "completed"
    },
    "tags": []
   },
   "outputs": [
    {
     "name": "stdout",
     "output_type": "stream",
     "text": [
      "Fuel type:- ['Petrol' 'Diesel' 'CNG']\n",
      "Seller:- ['Dealer' 'Individual']\n",
      "Transmission:- ['Manual' 'Automatic']\n",
      "Owner:- [0 1 3]\n",
      "Year:- [2014 2013 2017 2011 2018 2015 2016 2009 2010 2012 2003 2008 2006 2005\n",
      " 2004 2007]\n"
     ]
    }
   ],
   "source": [
    "print(\"Fuel type:-\", data['Fuel_Type'].unique())\n",
    "print(\"Seller:-\", data['Seller_Type'].unique())\n",
    "print(\"Transmission:-\", data['Transmission'].unique())\n",
    "print(\"Owner:-\", data['Owner'].unique())\n",
    "print(\"Year:-\",data['Year'].unique())"
   ]
  },
  {
   "cell_type": "markdown",
   "metadata": {
    "papermill": {
     "duration": 0.04833,
     "end_time": "2021-02-14T10:45:08.545414",
     "exception": false,
     "start_time": "2021-02-14T10:45:08.497084",
     "status": "completed"
    },
    "tags": []
   },
   "source": [
    "**Importing libraries for visualization**"
   ]
  },
  {
   "cell_type": "code",
   "execution_count": 10,
   "metadata": {
    "execution": {
     "iopub.execute_input": "2021-02-14T10:45:08.649156Z",
     "iopub.status.busy": "2021-02-14T10:45:08.648160Z",
     "iopub.status.idle": "2021-02-14T10:45:09.561592Z",
     "shell.execute_reply": "2021-02-14T10:45:09.560806Z"
    },
    "papermill": {
     "duration": 0.967785,
     "end_time": "2021-02-14T10:45:09.561770",
     "exception": false,
     "start_time": "2021-02-14T10:45:08.593985",
     "status": "completed"
    },
    "tags": []
   },
   "outputs": [],
   "source": [
    "import seaborn as sns\n",
    "import matplotlib.pyplot as plt\n",
    "%matplotlib inline"
   ]
  },
  {
   "cell_type": "code",
   "execution_count": 11,
   "metadata": {
    "execution": {
     "iopub.execute_input": "2021-02-14T10:45:09.673106Z",
     "iopub.status.busy": "2021-02-14T10:45:09.669902Z",
     "iopub.status.idle": "2021-02-14T10:45:09.963517Z",
     "shell.execute_reply": "2021-02-14T10:45:09.962848Z"
    },
    "papermill": {
     "duration": 0.352016,
     "end_time": "2021-02-14T10:45:09.963693",
     "exception": false,
     "start_time": "2021-02-14T10:45:09.611677",
     "status": "completed"
    },
    "tags": []
   },
   "outputs": [
    {
     "data": {
      "text/plain": [
       "<AxesSubplot:xlabel='Year', ylabel='count'>"
      ]
     },
     "execution_count": 11,
     "metadata": {},
     "output_type": "execute_result"
    },
    {
     "data": {
      "image/png": "[encoded data removed]",
      "text/plain": [
       "<Figure size 864x576 with 1 Axes>"
      ]
     },
     "metadata": {
      "needs_background": "light"
     },
     "output_type": "display_data"
    }
   ],
   "source": [
    "plt.figure(figsize=[12,8])\n",
    "sns.countplot(x='Year',data=data)"
   ]
  },
  {
   "cell_type": "markdown",
   "metadata": {
    "papermill": {
     "duration": 0.049809,
     "end_time": "2021-02-14T10:45:10.066141",
     "exception": false,
     "start_time": "2021-02-14T10:45:10.016332",
     "status": "completed"
    },
    "tags": []
   },
   "source": [
    "#####  **The above Countplot shows the Number of cars for each year**"
   ]
  },
  {
   "cell_type": "markdown",
   "metadata": {
    "papermill": {
     "duration": 0.05048,
     "end_time": "2021-02-14T10:45:10.168393",
     "exception": false,
     "start_time": "2021-02-14T10:45:10.117913",
     "status": "completed"
    },
    "tags": []
   },
   "source": [
    "**Adding a new coloum to our dataset called vehicle_age**"
   ]
  },
  {
   "cell_type": "code",
   "execution_count": 12,
   "metadata": {
    "execution": {
     "iopub.execute_input": "2021-02-14T10:45:10.277241Z",
     "iopub.status.busy": "2021-02-14T10:45:10.276370Z",
     "iopub.status.idle": "2021-02-14T10:45:10.421689Z",
     "shell.execute_reply": "2021-02-14T10:45:10.420985Z"
    },
    "papermill": {
     "duration": 0.203374,
     "end_time": "2021-02-14T10:45:10.421866",
     "exception": false,
     "start_time": "2021-02-14T10:45:10.218492",
     "status": "completed"
    },
    "tags": []
   },
   "outputs": [],
   "source": [
    "data['Vehicle_age']=2021-data['Year']"
   ]
  },
  {
   "cell_type": "markdown",
   "metadata": {
    "papermill": {
     "duration": 0.051813,
     "end_time": "2021-02-14T10:45:10.525413",
     "exception": false,
     "start_time": "2021-02-14T10:45:10.473600",
     "status": "completed"
    },
    "tags": []
   },
   "source": [
    "**Droping the year coloum from our dataset**"
   ]
  },
  {
   "cell_type": "code",
   "execution_count": 13,
   "metadata": {
    "execution": {
     "iopub.execute_input": "2021-02-14T10:45:10.637233Z",
     "iopub.status.busy": "2021-02-14T10:45:10.636531Z",
     "iopub.status.idle": "2021-02-14T10:45:10.638825Z",
     "shell.execute_reply": "2021-02-14T10:45:10.639291Z"
    },
    "papermill": {
     "duration": 0.062174,
     "end_time": "2021-02-14T10:45:10.639501",
     "exception": false,
     "start_time": "2021-02-14T10:45:10.577327",
     "status": "completed"
    },
    "tags": []
   },
   "outputs": [],
   "source": [
    "data.drop(['Year'],axis=1,inplace=True)"
   ]
  },
  {
   "cell_type": "code",
   "execution_count": 14,
   "metadata": {
    "execution": {
     "iopub.execute_input": "2021-02-14T10:45:10.745135Z",
     "iopub.status.busy": "2021-02-14T10:45:10.744475Z",
     "iopub.status.idle": "2021-02-14T10:45:10.759644Z",
     "shell.execute_reply": "2021-02-14T10:45:10.760128Z"
    },
    "papermill": {
     "duration": 0.069822,
     "end_time": "2021-02-14T10:45:10.760337",
     "exception": false,
     "start_time": "2021-02-14T10:45:10.690515",
     "status": "completed"
    },
    "tags": []
   },
   "outputs": [
    {
     "data": {
      "text/html": [
       "<div>\n",
       "<style scoped>\n",
       "    .dataframe tbody tr th:only-of-type {\n",
       "        vertical-align: middle;\n",
       "    }\n",
       "\n",
       "    .dataframe tbody tr th {\n",
       "        vertical-align: top;\n",
       "    }\n",
       "\n",
       "    .dataframe thead th {\n",
       "        text-align: right;\n",
       "    }\n",
       "</style>\n",
       "<table border=\"1\" class=\"dataframe\">\n",
       "  <thead>\n",
       "    <tr style=\"text-align: right;\">\n",
       "      <th></th>\n",
       "      <th>Car_Name</th>\n",
       "      <th>Selling_Price</th>\n",
       "      <th>Present_Price</th>\n",
       "      <th>Kms_Driven</th>\n",
       "      <th>Fuel_Type</th>\n",
       "      <th>Seller_Type</th>\n",
       "      <th>Transmission</th>\n",
       "      <th>Owner</th>\n",
       "      <th>Vehicle_age</th>\n",
       "    </tr>\n",
       "  </thead>\n",
       "  <tbody>\n",
       "    <tr>\n",
       "      <th>0</th>\n",
       "      <td>ritz</td>\n",
       "      <td>3.35</td>\n",
       "      <td>5.59</td>\n",
       "      <td>27000</td>\n",
       "      <td>Petrol</td>\n",
       "      <td>Dealer</td>\n",
       "      <td>Manual</td>\n",
       "      <td>0</td>\n",
       "      <td>7</td>\n",
       "    </tr>\n",
       "    <tr>\n",
       "      <th>1</th>\n",
       "      <td>sx4</td>\n",
       "      <td>4.75</td>\n",
       "      <td>9.54</td>\n",
       "      <td>43000</td>\n",
       "      <td>Diesel</td>\n",
       "      <td>Dealer</td>\n",
       "      <td>Manual</td>\n",
       "      <td>0</td>\n",
       "      <td>8</td>\n",
       "    </tr>\n",
       "    <tr>\n",
       "      <th>2</th>\n",
       "      <td>ciaz</td>\n",
       "      <td>7.25</td>\n",
       "      <td>9.85</td>\n",
       "      <td>6900</td>\n",
       "      <td>Petrol</td>\n",
       "      <td>Dealer</td>\n",
       "      <td>Manual</td>\n",
       "      <td>0</td>\n",
       "      <td>4</td>\n",
       "    </tr>\n",
       "    <tr>\n",
       "      <th>3</th>\n",
       "      <td>wagon r</td>\n",
       "      <td>2.85</td>\n",
       "      <td>4.15</td>\n",
       "      <td>5200</td>\n",
       "      <td>Petrol</td>\n",
       "      <td>Dealer</td>\n",
       "      <td>Manual</td>\n",
       "      <td>0</td>\n",
       "      <td>10</td>\n",
       "    </tr>\n",
       "    <tr>\n",
       "      <th>4</th>\n",
       "      <td>swift</td>\n",
       "      <td>4.60</td>\n",
       "      <td>6.87</td>\n",
       "      <td>42450</td>\n",
       "      <td>Diesel</td>\n",
       "      <td>Dealer</td>\n",
       "      <td>Manual</td>\n",
       "      <td>0</td>\n",
       "      <td>7</td>\n",
       "    </tr>\n",
       "  </tbody>\n",
       "</table>\n",
       "</div>"
      ],
      "text/plain": [
       "  Car_Name  Selling_Price  Present_Price  Kms_Driven Fuel_Type Seller_Type  \\\n",
       "0     ritz           3.35           5.59       27000    Petrol      Dealer   \n",
       "1      sx4           4.75           9.54       43000    Diesel      Dealer   \n",
       "2     ciaz           7.25           9.85        6900    Petrol      Dealer   \n",
       "3  wagon r           2.85           4.15        5200    Petrol      Dealer   \n",
       "4    swift           4.60           6.87       42450    Diesel      Dealer   \n",
       "\n",
       "  Transmission  Owner  Vehicle_age  \n",
       "0       Manual      0            7  \n",
       "1       Manual      0            8  \n",
       "2       Manual      0            4  \n",
       "3       Manual      0           10  \n",
       "4       Manual      0            7  "
      ]
     },
     "execution_count": 14,
     "metadata": {},
     "output_type": "execute_result"
    }
   ],
   "source": [
    "data.head()"
   ]
  },
  {
   "cell_type": "markdown",
   "metadata": {
    "papermill": {
     "duration": 0.051015,
     "end_time": "2021-02-14T10:45:10.862430",
     "exception": false,
     "start_time": "2021-02-14T10:45:10.811415",
     "status": "completed"
    },
    "tags": []
   },
   "source": [
    "### **Exploratory Data Analysis**"
   ]
  },
  {
   "cell_type": "code",
   "execution_count": 15,
   "metadata": {
    "execution": {
     "iopub.execute_input": "2021-02-14T10:45:10.971491Z",
     "iopub.status.busy": "2021-02-14T10:45:10.970732Z",
     "iopub.status.idle": "2021-02-14T10:45:16.236028Z",
     "shell.execute_reply": "2021-02-14T10:45:16.235429Z"
    },
    "papermill": {
     "duration": 5.320849,
     "end_time": "2021-02-14T10:45:16.236201",
     "exception": false,
     "start_time": "2021-02-14T10:45:10.915352",
     "status": "completed"
    },
    "tags": []
   },
   "outputs": [
    {
     "data": {
      "text/plain": [
       "<seaborn.axisgrid.PairGrid at 0x7fb90cdd1d90>"
      ]
     },
     "execution_count": 15,
     "metadata": {},
     "output_type": "execute_result"
    },
    {
     "data": {
      "image/png": "[encoded data removed]",
      "text/plain": [
       "<Figure size 900x900 with 30 Axes>"
      ]
     },
     "metadata": {
      "needs_background": "light"
     },
     "output_type": "display_data"
    }
   ],
   "source": [
    "sns.pairplot(data)"
   ]
  },
  {
   "cell_type": "markdown",
   "metadata": {
    "papermill": {
     "duration": 0.054588,
     "end_time": "2021-02-14T10:45:16.347446",
     "exception": false,
     "start_time": "2021-02-14T10:45:16.292858",
     "status": "completed"
    },
    "tags": []
   },
   "source": [
    "**Plotting countplot for varius features**"
   ]
  },
  {
   "cell_type": "code",
   "execution_count": 16,
   "metadata": {
    "execution": {
     "iopub.execute_input": "2021-02-14T10:45:16.482340Z",
     "iopub.status.busy": "2021-02-14T10:45:16.480801Z",
     "iopub.status.idle": "2021-02-14T10:45:16.884583Z",
     "shell.execute_reply": "2021-02-14T10:45:16.883870Z"
    },
    "papermill": {
     "duration": 0.482127,
     "end_time": "2021-02-14T10:45:16.884754",
     "exception": false,
     "start_time": "2021-02-14T10:45:16.402627",
     "status": "completed"
    },
    "tags": []
   },
   "outputs": [
    {
     "data": {
      "image/png": "[encoded data removed]",
      "text/plain": [
       "<Figure size 864x504 with 4 Axes>"
      ]
     },
     "metadata": {
      "needs_background": "light"
     },
     "output_type": "display_data"
    }
   ],
   "source": [
    "plt.figure(figsize=[12,7])\n",
    "plt.subplot(2,2,1)\n",
    "sns.countplot(x='Fuel_Type',data=data)\n",
    "plt.subplot(2,2,2)\n",
    "sns.countplot(x='Owner',data=data)\n",
    "\n",
    "plt.subplot(2,2,3)\n",
    "sns.countplot(x='Transmission',data=data)\n",
    "plt.subplot(2,2,4)\n",
    "sns.countplot(x='Seller_Type',data=data)\n",
    "plt.show()"
   ]
  },
  {
   "cell_type": "markdown",
   "metadata": {
    "papermill": {
     "duration": 0.056205,
     "end_time": "2021-02-14T10:45:16.997076",
     "exception": false,
     "start_time": "2021-02-14T10:45:16.940871",
     "status": "completed"
    },
    "tags": []
   },
   "source": [
    "From the above count plots we can get to know various information like:-<br>\n",
    "i) How many petrol,disesl and cng cars are there.<br>\n",
    "ii) Number of cars for different Owners.<br>\n",
    "iii) How many manual and automatic cars are there.<br>\n",
    "iv) Count of numbers of sellers type."
   ]
  },
  {
   "cell_type": "markdown",
   "metadata": {
    "papermill": {
     "duration": 0.056204,
     "end_time": "2021-02-14T10:45:17.109979",
     "exception": false,
     "start_time": "2021-02-14T10:45:17.053775",
     "status": "completed"
    },
    "tags": []
   },
   "source": [
    "**Plotting boxplots for different features**"
   ]
  },
  {
   "cell_type": "code",
   "execution_count": 17,
   "metadata": {
    "execution": {
     "iopub.execute_input": "2021-02-14T10:45:17.248759Z",
     "iopub.status.busy": "2021-02-14T10:45:17.248081Z",
     "iopub.status.idle": "2021-02-14T10:45:17.652175Z",
     "shell.execute_reply": "2021-02-14T10:45:17.651495Z"
    },
    "papermill": {
     "duration": 0.485574,
     "end_time": "2021-02-14T10:45:17.652348",
     "exception": false,
     "start_time": "2021-02-14T10:45:17.166774",
     "status": "completed"
    },
    "tags": []
   },
   "outputs": [
    {
     "data": {
      "image/png": "[encoded data removed]",
      "text/plain": [
       "<Figure size 864x504 with 4 Axes>"
      ]
     },
     "metadata": {
      "needs_background": "light"
     },
     "output_type": "display_data"
    }
   ],
   "source": [
    "plt.figure(figsize=[12,7])\n",
    "plt.subplot(2,2,1)\n",
    "sns.boxplot(x='Selling_Price',data=data)\n",
    "plt.subplot(2,2,2)\n",
    "sns.boxplot(x='Present_Price',data=data)\n",
    "\n",
    "plt.subplot(2,2,3)\n",
    "sns.boxplot(x='Kms_Driven',data=data)\n",
    "plt.subplot(2,2,4)\n",
    "sns.boxplot(x='Vehicle_age',data=data)\n",
    "plt.show()"
   ]
  },
  {
   "cell_type": "markdown",
   "metadata": {
    "papermill": {
     "duration": 0.058968,
     "end_time": "2021-02-14T10:45:17.769098",
     "exception": false,
     "start_time": "2021-02-14T10:45:17.710130",
     "status": "completed"
    },
    "tags": []
   },
   "source": [
    "The above graphs provides us with the information like Q1,Median,Q3,Minimum,Maximum value and outliers of different features  "
   ]
  },
  {
   "cell_type": "markdown",
   "metadata": {
    "papermill": {
     "duration": 0.057398,
     "end_time": "2021-02-14T10:45:17.888540",
     "exception": false,
     "start_time": "2021-02-14T10:45:17.831142",
     "status": "completed"
    },
    "tags": []
   },
   "source": [
    "**Having a look on extreme data entry points**"
   ]
  },
  {
   "cell_type": "code",
   "execution_count": 18,
   "metadata": {
    "execution": {
     "iopub.execute_input": "2021-02-14T10:45:18.015771Z",
     "iopub.status.busy": "2021-02-14T10:45:18.014675Z",
     "iopub.status.idle": "2021-02-14T10:45:18.028284Z",
     "shell.execute_reply": "2021-02-14T10:45:18.027478Z"
    },
    "papermill": {
     "duration": 0.082427,
     "end_time": "2021-02-14T10:45:18.028460",
     "exception": false,
     "start_time": "2021-02-14T10:45:17.946033",
     "status": "completed"
    },
    "tags": []
   },
   "outputs": [
    {
     "data": {
      "text/html": [
       "<div>\n",
       "<style scoped>\n",
       "    .dataframe tbody tr th:only-of-type {\n",
       "        vertical-align: middle;\n",
       "    }\n",
       "\n",
       "    .dataframe tbody tr th {\n",
       "        vertical-align: top;\n",
       "    }\n",
       "\n",
       "    .dataframe thead th {\n",
       "        text-align: right;\n",
       "    }\n",
       "</style>\n",
       "<table border=\"1\" class=\"dataframe\">\n",
       "  <thead>\n",
       "    <tr style=\"text-align: right;\">\n",
       "      <th></th>\n",
       "      <th>Car_Name</th>\n",
       "      <th>Selling_Price</th>\n",
       "      <th>Present_Price</th>\n",
       "      <th>Kms_Driven</th>\n",
       "      <th>Fuel_Type</th>\n",
       "      <th>Seller_Type</th>\n",
       "      <th>Transmission</th>\n",
       "      <th>Owner</th>\n",
       "      <th>Vehicle_age</th>\n",
       "    </tr>\n",
       "  </thead>\n",
       "  <tbody>\n",
       "    <tr>\n",
       "      <th>51</th>\n",
       "      <td>fortuner</td>\n",
       "      <td>23.00</td>\n",
       "      <td>30.61</td>\n",
       "      <td>40000</td>\n",
       "      <td>Diesel</td>\n",
       "      <td>Dealer</td>\n",
       "      <td>Automatic</td>\n",
       "      <td>0</td>\n",
       "      <td>6</td>\n",
       "    </tr>\n",
       "    <tr>\n",
       "      <th>63</th>\n",
       "      <td>fortuner</td>\n",
       "      <td>23.50</td>\n",
       "      <td>35.96</td>\n",
       "      <td>47000</td>\n",
       "      <td>Diesel</td>\n",
       "      <td>Dealer</td>\n",
       "      <td>Automatic</td>\n",
       "      <td>0</td>\n",
       "      <td>6</td>\n",
       "    </tr>\n",
       "    <tr>\n",
       "      <th>64</th>\n",
       "      <td>fortuner</td>\n",
       "      <td>33.00</td>\n",
       "      <td>36.23</td>\n",
       "      <td>6000</td>\n",
       "      <td>Diesel</td>\n",
       "      <td>Dealer</td>\n",
       "      <td>Automatic</td>\n",
       "      <td>0</td>\n",
       "      <td>4</td>\n",
       "    </tr>\n",
       "    <tr>\n",
       "      <th>82</th>\n",
       "      <td>innova</td>\n",
       "      <td>23.00</td>\n",
       "      <td>25.39</td>\n",
       "      <td>15000</td>\n",
       "      <td>Diesel</td>\n",
       "      <td>Dealer</td>\n",
       "      <td>Automatic</td>\n",
       "      <td>0</td>\n",
       "      <td>4</td>\n",
       "    </tr>\n",
       "    <tr>\n",
       "      <th>86</th>\n",
       "      <td>land cruiser</td>\n",
       "      <td>35.00</td>\n",
       "      <td>92.60</td>\n",
       "      <td>78000</td>\n",
       "      <td>Diesel</td>\n",
       "      <td>Dealer</td>\n",
       "      <td>Manual</td>\n",
       "      <td>0</td>\n",
       "      <td>11</td>\n",
       "    </tr>\n",
       "    <tr>\n",
       "      <th>93</th>\n",
       "      <td>fortuner</td>\n",
       "      <td>23.00</td>\n",
       "      <td>30.61</td>\n",
       "      <td>40000</td>\n",
       "      <td>Diesel</td>\n",
       "      <td>Dealer</td>\n",
       "      <td>Automatic</td>\n",
       "      <td>0</td>\n",
       "      <td>6</td>\n",
       "    </tr>\n",
       "    <tr>\n",
       "      <th>96</th>\n",
       "      <td>innova</td>\n",
       "      <td>20.75</td>\n",
       "      <td>25.39</td>\n",
       "      <td>29000</td>\n",
       "      <td>Diesel</td>\n",
       "      <td>Dealer</td>\n",
       "      <td>Automatic</td>\n",
       "      <td>0</td>\n",
       "      <td>5</td>\n",
       "    </tr>\n",
       "  </tbody>\n",
       "</table>\n",
       "</div>"
      ],
      "text/plain": [
       "        Car_Name  Selling_Price  Present_Price  Kms_Driven Fuel_Type  \\\n",
       "51      fortuner          23.00          30.61       40000    Diesel   \n",
       "63      fortuner          23.50          35.96       47000    Diesel   \n",
       "64      fortuner          33.00          36.23        6000    Diesel   \n",
       "82        innova          23.00          25.39       15000    Diesel   \n",
       "86  land cruiser          35.00          92.60       78000    Diesel   \n",
       "93      fortuner          23.00          30.61       40000    Diesel   \n",
       "96        innova          20.75          25.39       29000    Diesel   \n",
       "\n",
       "   Seller_Type Transmission  Owner  Vehicle_age  \n",
       "51      Dealer    Automatic      0            6  \n",
       "63      Dealer    Automatic      0            6  \n",
       "64      Dealer    Automatic      0            4  \n",
       "82      Dealer    Automatic      0            4  \n",
       "86      Dealer       Manual      0           11  \n",
       "93      Dealer    Automatic      0            6  \n",
       "96      Dealer    Automatic      0            5  "
      ]
     },
     "execution_count": 18,
     "metadata": {},
     "output_type": "execute_result"
    }
   ],
   "source": [
    "# Cars with  selling price more than 20 lakhs \n",
    "data[data['Selling_Price']>20]"
   ]
  },
  {
   "cell_type": "code",
   "execution_count": 19,
   "metadata": {
    "execution": {
     "iopub.execute_input": "2021-02-14T10:45:18.163793Z",
     "iopub.status.busy": "2021-02-14T10:45:18.162851Z",
     "iopub.status.idle": "2021-02-14T10:45:18.167900Z",
     "shell.execute_reply": "2021-02-14T10:45:18.167270Z"
    },
    "papermill": {
     "duration": 0.081771,
     "end_time": "2021-02-14T10:45:18.168086",
     "exception": false,
     "start_time": "2021-02-14T10:45:18.086315",
     "status": "completed"
    },
    "tags": []
   },
   "outputs": [
    {
     "data": {
      "text/html": [
       "<div>\n",
       "<style scoped>\n",
       "    .dataframe tbody tr th:only-of-type {\n",
       "        vertical-align: middle;\n",
       "    }\n",
       "\n",
       "    .dataframe tbody tr th {\n",
       "        vertical-align: top;\n",
       "    }\n",
       "\n",
       "    .dataframe thead th {\n",
       "        text-align: right;\n",
       "    }\n",
       "</style>\n",
       "<table border=\"1\" class=\"dataframe\">\n",
       "  <thead>\n",
       "    <tr style=\"text-align: right;\">\n",
       "      <th></th>\n",
       "      <th>Car_Name</th>\n",
       "      <th>Selling_Price</th>\n",
       "      <th>Present_Price</th>\n",
       "      <th>Kms_Driven</th>\n",
       "      <th>Fuel_Type</th>\n",
       "      <th>Seller_Type</th>\n",
       "      <th>Transmission</th>\n",
       "      <th>Owner</th>\n",
       "      <th>Vehicle_age</th>\n",
       "    </tr>\n",
       "  </thead>\n",
       "  <tbody>\n",
       "    <tr>\n",
       "      <th>37</th>\n",
       "      <td>800</td>\n",
       "      <td>0.35</td>\n",
       "      <td>2.28</td>\n",
       "      <td>127000</td>\n",
       "      <td>Petrol</td>\n",
       "      <td>Individual</td>\n",
       "      <td>Manual</td>\n",
       "      <td>0</td>\n",
       "      <td>18</td>\n",
       "    </tr>\n",
       "    <tr>\n",
       "      <th>50</th>\n",
       "      <td>fortuner</td>\n",
       "      <td>14.90</td>\n",
       "      <td>30.61</td>\n",
       "      <td>104707</td>\n",
       "      <td>Diesel</td>\n",
       "      <td>Dealer</td>\n",
       "      <td>Automatic</td>\n",
       "      <td>0</td>\n",
       "      <td>9</td>\n",
       "    </tr>\n",
       "    <tr>\n",
       "      <th>53</th>\n",
       "      <td>fortuner</td>\n",
       "      <td>16.00</td>\n",
       "      <td>30.61</td>\n",
       "      <td>135000</td>\n",
       "      <td>Diesel</td>\n",
       "      <td>Individual</td>\n",
       "      <td>Automatic</td>\n",
       "      <td>0</td>\n",
       "      <td>8</td>\n",
       "    </tr>\n",
       "    <tr>\n",
       "      <th>77</th>\n",
       "      <td>corolla</td>\n",
       "      <td>1.50</td>\n",
       "      <td>12.35</td>\n",
       "      <td>135154</td>\n",
       "      <td>Petrol</td>\n",
       "      <td>Dealer</td>\n",
       "      <td>Automatic</td>\n",
       "      <td>0</td>\n",
       "      <td>17</td>\n",
       "    </tr>\n",
       "    <tr>\n",
       "      <th>84</th>\n",
       "      <td>innova</td>\n",
       "      <td>3.49</td>\n",
       "      <td>13.46</td>\n",
       "      <td>197176</td>\n",
       "      <td>Diesel</td>\n",
       "      <td>Dealer</td>\n",
       "      <td>Manual</td>\n",
       "      <td>0</td>\n",
       "      <td>16</td>\n",
       "    </tr>\n",
       "    <tr>\n",
       "      <th>85</th>\n",
       "      <td>camry</td>\n",
       "      <td>2.50</td>\n",
       "      <td>23.73</td>\n",
       "      <td>142000</td>\n",
       "      <td>Petrol</td>\n",
       "      <td>Individual</td>\n",
       "      <td>Automatic</td>\n",
       "      <td>3</td>\n",
       "      <td>15</td>\n",
       "    </tr>\n",
       "    <tr>\n",
       "      <th>179</th>\n",
       "      <td>Honda Karizma</td>\n",
       "      <td>0.31</td>\n",
       "      <td>1.05</td>\n",
       "      <td>213000</td>\n",
       "      <td>Petrol</td>\n",
       "      <td>Individual</td>\n",
       "      <td>Manual</td>\n",
       "      <td>0</td>\n",
       "      <td>11</td>\n",
       "    </tr>\n",
       "    <tr>\n",
       "      <th>196</th>\n",
       "      <td>Activa 3g</td>\n",
       "      <td>0.17</td>\n",
       "      <td>0.52</td>\n",
       "      <td>500000</td>\n",
       "      <td>Petrol</td>\n",
       "      <td>Individual</td>\n",
       "      <td>Automatic</td>\n",
       "      <td>0</td>\n",
       "      <td>13</td>\n",
       "    </tr>\n",
       "  </tbody>\n",
       "</table>\n",
       "</div>"
      ],
      "text/plain": [
       "          Car_Name  Selling_Price  Present_Price  Kms_Driven Fuel_Type  \\\n",
       "37             800           0.35           2.28      127000    Petrol   \n",
       "50        fortuner          14.90          30.61      104707    Diesel   \n",
       "53        fortuner          16.00          30.61      135000    Diesel   \n",
       "77         corolla           1.50          12.35      135154    Petrol   \n",
       "84          innova           3.49          13.46      197176    Diesel   \n",
       "85           camry           2.50          23.73      142000    Petrol   \n",
       "179  Honda Karizma           0.31           1.05      213000    Petrol   \n",
       "196      Activa 3g           0.17           0.52      500000    Petrol   \n",
       "\n",
       "    Seller_Type Transmission  Owner  Vehicle_age  \n",
       "37   Individual       Manual      0           18  \n",
       "50       Dealer    Automatic      0            9  \n",
       "53   Individual    Automatic      0            8  \n",
       "77       Dealer    Automatic      0           17  \n",
       "84       Dealer       Manual      0           16  \n",
       "85   Individual    Automatic      3           15  \n",
       "179  Individual       Manual      0           11  \n",
       "196  Individual    Automatic      0           13  "
      ]
     },
     "execution_count": 19,
     "metadata": {},
     "output_type": "execute_result"
    }
   ],
   "source": [
    "# Cars that are driven for more than 1 Lakh Kms.\n",
    "data[data['Kms_Driven']>100000]"
   ]
  },
  {
   "cell_type": "code",
   "execution_count": 20,
   "metadata": {
    "execution": {
     "iopub.execute_input": "2021-02-14T10:45:18.302435Z",
     "iopub.status.busy": "2021-02-14T10:45:18.296072Z",
     "iopub.status.idle": "2021-02-14T10:45:18.308203Z",
     "shell.execute_reply": "2021-02-14T10:45:18.307536Z"
    },
    "papermill": {
     "duration": 0.081976,
     "end_time": "2021-02-14T10:45:18.308362",
     "exception": false,
     "start_time": "2021-02-14T10:45:18.226386",
     "status": "completed"
    },
    "tags": []
   },
   "outputs": [
    {
     "data": {
      "text/html": [
       "<div>\n",
       "<style scoped>\n",
       "    .dataframe tbody tr th:only-of-type {\n",
       "        vertical-align: middle;\n",
       "    }\n",
       "\n",
       "    .dataframe tbody tr th {\n",
       "        vertical-align: top;\n",
       "    }\n",
       "\n",
       "    .dataframe thead th {\n",
       "        text-align: right;\n",
       "    }\n",
       "</style>\n",
       "<table border=\"1\" class=\"dataframe\">\n",
       "  <thead>\n",
       "    <tr style=\"text-align: right;\">\n",
       "      <th></th>\n",
       "      <th>Car_Name</th>\n",
       "      <th>Selling_Price</th>\n",
       "      <th>Present_Price</th>\n",
       "      <th>Kms_Driven</th>\n",
       "      <th>Fuel_Type</th>\n",
       "      <th>Seller_Type</th>\n",
       "      <th>Transmission</th>\n",
       "      <th>Owner</th>\n",
       "      <th>Vehicle_age</th>\n",
       "    </tr>\n",
       "  </thead>\n",
       "  <tbody>\n",
       "    <tr>\n",
       "      <th>37</th>\n",
       "      <td>800</td>\n",
       "      <td>0.35</td>\n",
       "      <td>2.28</td>\n",
       "      <td>127000</td>\n",
       "      <td>Petrol</td>\n",
       "      <td>Individual</td>\n",
       "      <td>Manual</td>\n",
       "      <td>0</td>\n",
       "      <td>18</td>\n",
       "    </tr>\n",
       "    <tr>\n",
       "      <th>39</th>\n",
       "      <td>sx4</td>\n",
       "      <td>2.25</td>\n",
       "      <td>7.98</td>\n",
       "      <td>62000</td>\n",
       "      <td>Petrol</td>\n",
       "      <td>Dealer</td>\n",
       "      <td>Manual</td>\n",
       "      <td>0</td>\n",
       "      <td>18</td>\n",
       "    </tr>\n",
       "    <tr>\n",
       "      <th>54</th>\n",
       "      <td>innova</td>\n",
       "      <td>2.75</td>\n",
       "      <td>10.21</td>\n",
       "      <td>90000</td>\n",
       "      <td>Petrol</td>\n",
       "      <td>Individual</td>\n",
       "      <td>Manual</td>\n",
       "      <td>0</td>\n",
       "      <td>16</td>\n",
       "    </tr>\n",
       "    <tr>\n",
       "      <th>77</th>\n",
       "      <td>corolla</td>\n",
       "      <td>1.50</td>\n",
       "      <td>12.35</td>\n",
       "      <td>135154</td>\n",
       "      <td>Petrol</td>\n",
       "      <td>Dealer</td>\n",
       "      <td>Automatic</td>\n",
       "      <td>0</td>\n",
       "      <td>17</td>\n",
       "    </tr>\n",
       "    <tr>\n",
       "      <th>84</th>\n",
       "      <td>innova</td>\n",
       "      <td>3.49</td>\n",
       "      <td>13.46</td>\n",
       "      <td>197176</td>\n",
       "      <td>Diesel</td>\n",
       "      <td>Dealer</td>\n",
       "      <td>Manual</td>\n",
       "      <td>0</td>\n",
       "      <td>16</td>\n",
       "    </tr>\n",
       "    <tr>\n",
       "      <th>92</th>\n",
       "      <td>innova</td>\n",
       "      <td>3.51</td>\n",
       "      <td>13.70</td>\n",
       "      <td>75000</td>\n",
       "      <td>Petrol</td>\n",
       "      <td>Dealer</td>\n",
       "      <td>Manual</td>\n",
       "      <td>0</td>\n",
       "      <td>16</td>\n",
       "    </tr>\n",
       "    <tr>\n",
       "      <th>189</th>\n",
       "      <td>Hero Super Splendor</td>\n",
       "      <td>0.20</td>\n",
       "      <td>0.57</td>\n",
       "      <td>55000</td>\n",
       "      <td>Petrol</td>\n",
       "      <td>Individual</td>\n",
       "      <td>Manual</td>\n",
       "      <td>0</td>\n",
       "      <td>16</td>\n",
       "    </tr>\n",
       "  </tbody>\n",
       "</table>\n",
       "</div>"
      ],
      "text/plain": [
       "                Car_Name  Selling_Price  Present_Price  Kms_Driven Fuel_Type  \\\n",
       "37                   800           0.35           2.28      127000    Petrol   \n",
       "39                   sx4           2.25           7.98       62000    Petrol   \n",
       "54                innova           2.75          10.21       90000    Petrol   \n",
       "77               corolla           1.50          12.35      135154    Petrol   \n",
       "84                innova           3.49          13.46      197176    Diesel   \n",
       "92                innova           3.51          13.70       75000    Petrol   \n",
       "189  Hero Super Splendor           0.20           0.57       55000    Petrol   \n",
       "\n",
       "    Seller_Type Transmission  Owner  Vehicle_age  \n",
       "37   Individual       Manual      0           18  \n",
       "39       Dealer       Manual      0           18  \n",
       "54   Individual       Manual      0           16  \n",
       "77       Dealer    Automatic      0           17  \n",
       "84       Dealer       Manual      0           16  \n",
       "92       Dealer       Manual      0           16  \n",
       "189  Individual       Manual      0           16  "
      ]
     },
     "execution_count": 20,
     "metadata": {},
     "output_type": "execute_result"
    }
   ],
   "source": [
    "# Cars older than 15 years of age.\n",
    "data[data['Vehicle_age']>15]"
   ]
  },
  {
   "cell_type": "markdown",
   "metadata": {
    "papermill": {
     "duration": 0.058259,
     "end_time": "2021-02-14T10:45:18.425112",
     "exception": false,
     "start_time": "2021-02-14T10:45:18.366853",
     "status": "completed"
    },
    "tags": []
   },
   "source": [
    "**Checking relationship between features**"
   ]
  },
  {
   "cell_type": "code",
   "execution_count": 21,
   "metadata": {
    "execution": {
     "iopub.execute_input": "2021-02-14T10:45:18.550234Z",
     "iopub.status.busy": "2021-02-14T10:45:18.549439Z",
     "iopub.status.idle": "2021-02-14T10:45:18.929796Z",
     "shell.execute_reply": "2021-02-14T10:45:18.929031Z"
    },
    "papermill": {
     "duration": 0.445565,
     "end_time": "2021-02-14T10:45:18.929997",
     "exception": false,
     "start_time": "2021-02-14T10:45:18.484432",
     "status": "completed"
    },
    "tags": []
   },
   "outputs": [
    {
     "data": {
      "text/plain": [
       "<AxesSubplot:>"
      ]
     },
     "execution_count": 21,
     "metadata": {},
     "output_type": "execute_result"
    },
    {
     "data": {
      "image/png": "[encoded data removed]",
      "text/plain": [
       "<Figure size 864x576 with 2 Axes>"
      ]
     },
     "metadata": {
      "needs_background": "light"
     },
     "output_type": "display_data"
    }
   ],
   "source": [
    "plt.figure(figsize=[12,8])\n",
    "sns.heatmap(data.corr(),annot=True,cmap='PuBuGn')"
   ]
  },
  {
   "cell_type": "markdown",
   "metadata": {
    "papermill": {
     "duration": 0.060544,
     "end_time": "2021-02-14T10:45:19.051399",
     "exception": false,
     "start_time": "2021-02-14T10:45:18.990855",
     "status": "completed"
    },
    "tags": []
   },
   "source": [
    "**Visualizing selling price relationship with other features**"
   ]
  },
  {
   "cell_type": "code",
   "execution_count": 22,
   "metadata": {
    "execution": {
     "iopub.execute_input": "2021-02-14T10:45:19.198197Z",
     "iopub.status.busy": "2021-02-14T10:45:19.196934Z",
     "iopub.status.idle": "2021-02-14T10:45:19.543068Z",
     "shell.execute_reply": "2021-02-14T10:45:19.543593Z"
    },
    "papermill": {
     "duration": 0.431767,
     "end_time": "2021-02-14T10:45:19.543798",
     "exception": false,
     "start_time": "2021-02-14T10:45:19.112031",
     "status": "completed"
    },
    "tags": []
   },
   "outputs": [
    {
     "data": {
      "text/plain": [
       "<AxesSubplot:xlabel='Fuel_Type', ylabel='Selling_Price'>"
      ]
     },
     "execution_count": 22,
     "metadata": {},
     "output_type": "execute_result"
    },
    {
     "data": {
      "image/png": "[encoded data removed]",
      "text/plain": [
       "<Figure size 648x432 with 2 Axes>"
      ]
     },
     "metadata": {
      "needs_background": "light"
     },
     "output_type": "display_data"
    }
   ],
   "source": [
    "plt.figure(figsize=[9,6])\n",
    "plt.subplot(1,2,1)\n",
    "sns.barplot(x='Fuel_Type',y='Selling_Price',data=data)\n",
    "plt.subplot(1,2,2)\n",
    "sns.stripplot(x='Fuel_Type',y='Selling_Price',data=data)\n"
   ]
  },
  {
   "cell_type": "markdown",
   "metadata": {
    "papermill": {
     "duration": 0.062971,
     "end_time": "2021-02-14T10:45:19.669152",
     "exception": false,
     "start_time": "2021-02-14T10:45:19.606181",
     "status": "completed"
    },
    "tags": []
   },
   "source": [
    "**We can say that Diesel cars have higher selling price than Petrol and CNG cars.**"
   ]
  },
  {
   "cell_type": "code",
   "execution_count": 23,
   "metadata": {
    "execution": {
     "iopub.execute_input": "2021-02-14T10:45:19.851468Z",
     "iopub.status.busy": "2021-02-14T10:45:19.850381Z",
     "iopub.status.idle": "2021-02-14T10:45:20.176993Z",
     "shell.execute_reply": "2021-02-14T10:45:20.176193Z"
    },
    "papermill": {
     "duration": 0.441565,
     "end_time": "2021-02-14T10:45:20.177235",
     "exception": false,
     "start_time": "2021-02-14T10:45:19.735670",
     "status": "completed"
    },
    "tags": []
   },
   "outputs": [
    {
     "data": {
      "text/plain": [
       "<AxesSubplot:xlabel='Seller_Type', ylabel='Selling_Price'>"
      ]
     },
     "execution_count": 23,
     "metadata": {},
     "output_type": "execute_result"
    },
    {
     "data": {
      "image/png": "[encoded data removed]",
      "text/plain": [
       "<Figure size 648x432 with 2 Axes>"
      ]
     },
     "metadata": {
      "needs_background": "light"
     },
     "output_type": "display_data"
    }
   ],
   "source": [
    "plt.figure(figsize=[9,6])\n",
    "plt.subplot(1,2,1)\n",
    "sns.barplot(x='Seller_Type',y='Selling_Price',data=data)\n",
    "plt.subplot(1,2,2)\n",
    "sns.stripplot(x='Seller_Type',y='Selling_Price',data=data)"
   ]
  },
  {
   "cell_type": "markdown",
   "metadata": {
    "papermill": {
     "duration": 0.065774,
     "end_time": "2021-02-14T10:45:20.313778",
     "exception": false,
     "start_time": "2021-02-14T10:45:20.248004",
     "status": "completed"
    },
    "tags": []
   },
   "source": [
    "**From the graphs we can infer that the dealers are earning more money than the individual sellers as dealers are getting more selling price.**"
   ]
  },
  {
   "cell_type": "code",
   "execution_count": 24,
   "metadata": {
    "execution": {
     "iopub.execute_input": "2021-02-14T10:45:20.463089Z",
     "iopub.status.busy": "2021-02-14T10:45:20.447946Z",
     "iopub.status.idle": "2021-02-14T10:45:20.773979Z",
     "shell.execute_reply": "2021-02-14T10:45:20.773325Z"
    },
    "papermill": {
     "duration": 0.396488,
     "end_time": "2021-02-14T10:45:20.774158",
     "exception": false,
     "start_time": "2021-02-14T10:45:20.377670",
     "status": "completed"
    },
    "tags": []
   },
   "outputs": [
    {
     "data": {
      "text/plain": [
       "<AxesSubplot:xlabel='Transmission', ylabel='Selling_Price'>"
      ]
     },
     "execution_count": 24,
     "metadata": {},
     "output_type": "execute_result"
    },
    {
     "data": {
      "image/png": "[encoded data removed]",
      "text/plain": [
       "<Figure size 648x432 with 2 Axes>"
      ]
     },
     "metadata": {
      "needs_background": "light"
     },
     "output_type": "display_data"
    }
   ],
   "source": [
    "plt.figure(figsize=[9,6])\n",
    "plt.subplot(1,2,1)\n",
    "sns.barplot(x='Transmission',y='Selling_Price',data=data)\n",
    "plt.subplot(1,2,2)\n",
    "sns.stripplot(x='Transmission',y='Selling_Price',data=data)"
   ]
  },
  {
   "cell_type": "markdown",
   "metadata": {
    "papermill": {
     "duration": 0.064784,
     "end_time": "2021-02-14T10:45:20.904553",
     "exception": false,
     "start_time": "2021-02-14T10:45:20.839769",
     "status": "completed"
    },
    "tags": []
   },
   "source": [
    "**From the above graphs, we can conclude that people prefer Automatic cars over Manual cars hence they have a high selling price.**"
   ]
  },
  {
   "cell_type": "code",
   "execution_count": 25,
   "metadata": {
    "execution": {
     "iopub.execute_input": "2021-02-14T10:45:21.061798Z",
     "iopub.status.busy": "2021-02-14T10:45:21.047177Z",
     "iopub.status.idle": "2021-02-14T10:45:21.377552Z",
     "shell.execute_reply": "2021-02-14T10:45:21.376958Z"
    },
    "papermill": {
     "duration": 0.408419,
     "end_time": "2021-02-14T10:45:21.377748",
     "exception": false,
     "start_time": "2021-02-14T10:45:20.969329",
     "status": "completed"
    },
    "tags": []
   },
   "outputs": [
    {
     "data": {
      "text/plain": [
       "<AxesSubplot:xlabel='Owner', ylabel='Selling_Price'>"
      ]
     },
     "execution_count": 25,
     "metadata": {},
     "output_type": "execute_result"
    },
    {
     "data": {
      "image/png": "[encoded data removed]",
      "text/plain": [
       "<Figure size 648x432 with 2 Axes>"
      ]
     },
     "metadata": {
      "needs_background": "light"
     },
     "output_type": "display_data"
    }
   ],
   "source": [
    "plt.figure(figsize=[9,6])\n",
    "plt.subplot(1,2,1)\n",
    "sns.barplot(x='Owner',y='Selling_Price',data=data)\n",
    "plt.subplot(1,2,2)\n",
    "sns.stripplot(x='Owner',y='Selling_Price',data=data)"
   ]
  },
  {
   "cell_type": "code",
   "execution_count": 26,
   "metadata": {
    "execution": {
     "iopub.execute_input": "2021-02-14T10:45:21.525781Z",
     "iopub.status.busy": "2021-02-14T10:45:21.524947Z",
     "iopub.status.idle": "2021-02-14T10:45:21.723961Z",
     "shell.execute_reply": "2021-02-14T10:45:21.724448Z"
    },
    "papermill": {
     "duration": 0.277729,
     "end_time": "2021-02-14T10:45:21.724638",
     "exception": false,
     "start_time": "2021-02-14T10:45:21.446909",
     "status": "completed"
    },
    "tags": []
   },
   "outputs": [
    {
     "data": {
      "text/plain": [
       "<AxesSubplot:xlabel='Vehicle_age', ylabel='Selling_Price'>"
      ]
     },
     "execution_count": 26,
     "metadata": {},
     "output_type": "execute_result"
    },
    {
     "data": {
      "image/png": "[encoded data removed]",
      "text/plain": [
       "<Figure size 864x432 with 1 Axes>"
      ]
     },
     "metadata": {
      "needs_background": "light"
     },
     "output_type": "display_data"
    }
   ],
   "source": [
    "plt.figure(figsize=[12,6])\n",
    "sns.scatterplot(x='Vehicle_age',y='Selling_Price',data=data)"
   ]
  },
  {
   "cell_type": "code",
   "execution_count": 27,
   "metadata": {
    "execution": {
     "iopub.execute_input": "2021-02-14T10:45:21.896413Z",
     "iopub.status.busy": "2021-02-14T10:45:21.895590Z",
     "iopub.status.idle": "2021-02-14T10:45:22.066892Z",
     "shell.execute_reply": "2021-02-14T10:45:22.066208Z"
    },
    "papermill": {
     "duration": 0.270048,
     "end_time": "2021-02-14T10:45:22.067067",
     "exception": false,
     "start_time": "2021-02-14T10:45:21.797019",
     "status": "completed"
    },
    "tags": []
   },
   "outputs": [
    {
     "data": {
      "text/plain": [
       "<AxesSubplot:xlabel='Kms_Driven', ylabel='Selling_Price'>"
      ]
     },
     "execution_count": 27,
     "metadata": {},
     "output_type": "execute_result"
    },
    {
     "data": {
      "image/png": "[encoded data removed]",
      "text/plain": [
       "<Figure size 864x432 with 1 Axes>"
      ]
     },
     "metadata": {
      "needs_background": "light"
     },
     "output_type": "display_data"
    }
   ],
   "source": [
    "plt.figure(figsize=[12,6])\n",
    "sns.scatterplot(x='Kms_Driven',y='Selling_Price',data=data)"
   ]
  },
  {
   "cell_type": "markdown",
   "metadata": {
    "papermill": {
     "duration": 0.071473,
     "end_time": "2021-02-14T10:45:22.210720",
     "exception": false,
     "start_time": "2021-02-14T10:45:22.139247",
     "status": "completed"
    },
    "tags": []
   },
   "source": [
    "### **Model Building**"
   ]
  },
  {
   "cell_type": "markdown",
   "metadata": {
    "papermill": {
     "duration": 0.073173,
     "end_time": "2021-02-14T10:45:22.357691",
     "exception": false,
     "start_time": "2021-02-14T10:45:22.284518",
     "status": "completed"
    },
    "tags": []
   },
   "source": [
    "**Creating dummy variables for categorical features**"
   ]
  },
  {
   "cell_type": "code",
   "execution_count": 28,
   "metadata": {
    "execution": {
     "iopub.execute_input": "2021-02-14T10:45:22.516726Z",
     "iopub.status.busy": "2021-02-14T10:45:22.516070Z",
     "iopub.status.idle": "2021-02-14T10:45:22.519090Z",
     "shell.execute_reply": "2021-02-14T10:45:22.518440Z"
    },
    "papermill": {
     "duration": 0.090443,
     "end_time": "2021-02-14T10:45:22.519240",
     "exception": false,
     "start_time": "2021-02-14T10:45:22.428797",
     "status": "completed"
    },
    "tags": []
   },
   "outputs": [],
   "source": [
    "data.drop(['Car_Name'],inplace=True,axis=1)\n",
    "data=pd.get_dummies(data,drop_first=True)"
   ]
  },
  {
   "cell_type": "code",
   "execution_count": 29,
   "metadata": {
    "execution": {
     "iopub.execute_input": "2021-02-14T10:45:22.677941Z",
     "iopub.status.busy": "2021-02-14T10:45:22.671549Z",
     "iopub.status.idle": "2021-02-14T10:45:22.683107Z",
     "shell.execute_reply": "2021-02-14T10:45:22.682343Z"
    },
    "papermill": {
     "duration": 0.093196,
     "end_time": "2021-02-14T10:45:22.683273",
     "exception": false,
     "start_time": "2021-02-14T10:45:22.590077",
     "status": "completed"
    },
    "tags": []
   },
   "outputs": [
    {
     "data": {
      "text/html": [
       "<div>\n",
       "<style scoped>\n",
       "    .dataframe tbody tr th:only-of-type {\n",
       "        vertical-align: middle;\n",
       "    }\n",
       "\n",
       "    .dataframe tbody tr th {\n",
       "        vertical-align: top;\n",
       "    }\n",
       "\n",
       "    .dataframe thead th {\n",
       "        text-align: right;\n",
       "    }\n",
       "</style>\n",
       "<table border=\"1\" class=\"dataframe\">\n",
       "  <thead>\n",
       "    <tr style=\"text-align: right;\">\n",
       "      <th></th>\n",
       "      <th>Selling_Price</th>\n",
       "      <th>Present_Price</th>\n",
       "      <th>Kms_Driven</th>\n",
       "      <th>Owner</th>\n",
       "      <th>Vehicle_age</th>\n",
       "      <th>Fuel_Type_Diesel</th>\n",
       "      <th>Fuel_Type_Petrol</th>\n",
       "      <th>Seller_Type_Individual</th>\n",
       "      <th>Transmission_Manual</th>\n",
       "    </tr>\n",
       "  </thead>\n",
       "  <tbody>\n",
       "    <tr>\n",
       "      <th>0</th>\n",
       "      <td>3.35</td>\n",
       "      <td>5.59</td>\n",
       "      <td>27000</td>\n",
       "      <td>0</td>\n",
       "      <td>7</td>\n",
       "      <td>0</td>\n",
       "      <td>1</td>\n",
       "      <td>0</td>\n",
       "      <td>1</td>\n",
       "    </tr>\n",
       "    <tr>\n",
       "      <th>1</th>\n",
       "      <td>4.75</td>\n",
       "      <td>9.54</td>\n",
       "      <td>43000</td>\n",
       "      <td>0</td>\n",
       "      <td>8</td>\n",
       "      <td>1</td>\n",
       "      <td>0</td>\n",
       "      <td>0</td>\n",
       "      <td>1</td>\n",
       "    </tr>\n",
       "    <tr>\n",
       "      <th>2</th>\n",
       "      <td>7.25</td>\n",
       "      <td>9.85</td>\n",
       "      <td>6900</td>\n",
       "      <td>0</td>\n",
       "      <td>4</td>\n",
       "      <td>0</td>\n",
       "      <td>1</td>\n",
       "      <td>0</td>\n",
       "      <td>1</td>\n",
       "    </tr>\n",
       "    <tr>\n",
       "      <th>3</th>\n",
       "      <td>2.85</td>\n",
       "      <td>4.15</td>\n",
       "      <td>5200</td>\n",
       "      <td>0</td>\n",
       "      <td>10</td>\n",
       "      <td>0</td>\n",
       "      <td>1</td>\n",
       "      <td>0</td>\n",
       "      <td>1</td>\n",
       "    </tr>\n",
       "    <tr>\n",
       "      <th>4</th>\n",
       "      <td>4.60</td>\n",
       "      <td>6.87</td>\n",
       "      <td>42450</td>\n",
       "      <td>0</td>\n",
       "      <td>7</td>\n",
       "      <td>1</td>\n",
       "      <td>0</td>\n",
       "      <td>0</td>\n",
       "      <td>1</td>\n",
       "    </tr>\n",
       "  </tbody>\n",
       "</table>\n",
       "</div>"
      ],
      "text/plain": [
       "   Selling_Price  Present_Price  Kms_Driven  Owner  Vehicle_age  \\\n",
       "0           3.35           5.59       27000      0            7   \n",
       "1           4.75           9.54       43000      0            8   \n",
       "2           7.25           9.85        6900      0            4   \n",
       "3           2.85           4.15        5200      0           10   \n",
       "4           4.60           6.87       42450      0            7   \n",
       "\n",
       "   Fuel_Type_Diesel  Fuel_Type_Petrol  Seller_Type_Individual  \\\n",
       "0                 0                 1                       0   \n",
       "1                 1                 0                       0   \n",
       "2                 0                 1                       0   \n",
       "3                 0                 1                       0   \n",
       "4                 1                 0                       0   \n",
       "\n",
       "   Transmission_Manual  \n",
       "0                    1  \n",
       "1                    1  \n",
       "2                    1  \n",
       "3                    1  \n",
       "4                    1  "
      ]
     },
     "execution_count": 29,
     "metadata": {},
     "output_type": "execute_result"
    }
   ],
   "source": [
    "data.head()"
   ]
  },
  {
   "cell_type": "code",
   "execution_count": 30,
   "metadata": {
    "execution": {
     "iopub.execute_input": "2021-02-14T10:45:22.835836Z",
     "iopub.status.busy": "2021-02-14T10:45:22.835183Z",
     "iopub.status.idle": "2021-02-14T10:45:22.838458Z",
     "shell.execute_reply": "2021-02-14T10:45:22.839141Z"
    },
    "papermill": {
     "duration": 0.082558,
     "end_time": "2021-02-14T10:45:22.839319",
     "exception": false,
     "start_time": "2021-02-14T10:45:22.756761",
     "status": "completed"
    },
    "tags": []
   },
   "outputs": [],
   "source": [
    "x=data.iloc[:,1:]\n",
    "y=data.iloc[:,0].values"
   ]
  },
  {
   "cell_type": "code",
   "execution_count": 31,
   "metadata": {
    "execution": {
     "iopub.execute_input": "2021-02-14T10:45:22.988397Z",
     "iopub.status.busy": "2021-02-14T10:45:22.987751Z",
     "iopub.status.idle": "2021-02-14T10:45:23.002134Z",
     "shell.execute_reply": "2021-02-14T10:45:23.001403Z"
    },
    "papermill": {
     "duration": 0.090739,
     "end_time": "2021-02-14T10:45:23.002287",
     "exception": false,
     "start_time": "2021-02-14T10:45:22.911548",
     "status": "completed"
    },
    "tags": []
   },
   "outputs": [
    {
     "data": {
      "text/html": [
       "<div>\n",
       "<style scoped>\n",
       "    .dataframe tbody tr th:only-of-type {\n",
       "        vertical-align: middle;\n",
       "    }\n",
       "\n",
       "    .dataframe tbody tr th {\n",
       "        vertical-align: top;\n",
       "    }\n",
       "\n",
       "    .dataframe thead th {\n",
       "        text-align: right;\n",
       "    }\n",
       "</style>\n",
       "<table border=\"1\" class=\"dataframe\">\n",
       "  <thead>\n",
       "    <tr style=\"text-align: right;\">\n",
       "      <th></th>\n",
       "      <th>Present_Price</th>\n",
       "      <th>Kms_Driven</th>\n",
       "      <th>Owner</th>\n",
       "      <th>Vehicle_age</th>\n",
       "      <th>Fuel_Type_Diesel</th>\n",
       "      <th>Fuel_Type_Petrol</th>\n",
       "      <th>Seller_Type_Individual</th>\n",
       "      <th>Transmission_Manual</th>\n",
       "    </tr>\n",
       "  </thead>\n",
       "  <tbody>\n",
       "    <tr>\n",
       "      <th>0</th>\n",
       "      <td>5.59</td>\n",
       "      <td>27000</td>\n",
       "      <td>0</td>\n",
       "      <td>7</td>\n",
       "      <td>0</td>\n",
       "      <td>1</td>\n",
       "      <td>0</td>\n",
       "      <td>1</td>\n",
       "    </tr>\n",
       "    <tr>\n",
       "      <th>1</th>\n",
       "      <td>9.54</td>\n",
       "      <td>43000</td>\n",
       "      <td>0</td>\n",
       "      <td>8</td>\n",
       "      <td>1</td>\n",
       "      <td>0</td>\n",
       "      <td>0</td>\n",
       "      <td>1</td>\n",
       "    </tr>\n",
       "    <tr>\n",
       "      <th>2</th>\n",
       "      <td>9.85</td>\n",
       "      <td>6900</td>\n",
       "      <td>0</td>\n",
       "      <td>4</td>\n",
       "      <td>0</td>\n",
       "      <td>1</td>\n",
       "      <td>0</td>\n",
       "      <td>1</td>\n",
       "    </tr>\n",
       "    <tr>\n",
       "      <th>3</th>\n",
       "      <td>4.15</td>\n",
       "      <td>5200</td>\n",
       "      <td>0</td>\n",
       "      <td>10</td>\n",
       "      <td>0</td>\n",
       "      <td>1</td>\n",
       "      <td>0</td>\n",
       "      <td>1</td>\n",
       "    </tr>\n",
       "    <tr>\n",
       "      <th>4</th>\n",
       "      <td>6.87</td>\n",
       "      <td>42450</td>\n",
       "      <td>0</td>\n",
       "      <td>7</td>\n",
       "      <td>1</td>\n",
       "      <td>0</td>\n",
       "      <td>0</td>\n",
       "      <td>1</td>\n",
       "    </tr>\n",
       "  </tbody>\n",
       "</table>\n",
       "</div>"
      ],
      "text/plain": [
       "   Present_Price  Kms_Driven  Owner  Vehicle_age  Fuel_Type_Diesel  \\\n",
       "0           5.59       27000      0            7                 0   \n",
       "1           9.54       43000      0            8                 1   \n",
       "2           9.85        6900      0            4                 0   \n",
       "3           4.15        5200      0           10                 0   \n",
       "4           6.87       42450      0            7                 1   \n",
       "\n",
       "   Fuel_Type_Petrol  Seller_Type_Individual  Transmission_Manual  \n",
       "0                 1                       0                    1  \n",
       "1                 0                       0                    1  \n",
       "2                 1                       0                    1  \n",
       "3                 1                       0                    1  \n",
       "4                 0                       0                    1  "
      ]
     },
     "execution_count": 31,
     "metadata": {},
     "output_type": "execute_result"
    }
   ],
   "source": [
    "x.head()"
   ]
  },
  {
   "cell_type": "code",
   "execution_count": 32,
   "metadata": {
    "execution": {
     "iopub.execute_input": "2021-02-14T10:45:23.153258Z",
     "iopub.status.busy": "2021-02-14T10:45:23.152527Z",
     "iopub.status.idle": "2021-02-14T10:45:23.163209Z",
     "shell.execute_reply": "2021-02-14T10:45:23.162491Z"
    },
    "papermill": {
     "duration": 0.088274,
     "end_time": "2021-02-14T10:45:23.163368",
     "exception": false,
     "start_time": "2021-02-14T10:45:23.075094",
     "status": "completed"
    },
    "tags": []
   },
   "outputs": [
    {
     "name": "stdout",
     "output_type": "stream",
     "text": [
      "[ 3.35  4.75  7.25  2.85  4.6   9.25  6.75  6.5   8.75  7.45  2.85  6.85\n",
      "  7.5   6.1   2.25  7.75  7.25  7.75  3.25  2.65  2.85  4.9   4.4   2.5\n",
      "  2.9   3.    4.15  6.    1.95  7.45  3.1   2.35  4.95  6.    5.5   2.95\n",
      "  4.65  0.35  3.    2.25  5.85  2.55  1.95  5.5   1.25  7.5   2.65  1.05\n",
      "  5.8   7.75 14.9  23.   18.   16.    2.75  3.6   4.5   4.75  4.1  19.99\n",
      "  6.95  4.5  18.75 23.5  33.    4.75 19.75  9.25  4.35 14.25  3.95  4.5\n",
      "  7.45  2.65  4.9   3.95  5.5   1.5   5.25 14.5  14.73  4.75 23.   12.5\n",
      "  3.49  2.5  35.    5.9   3.45  4.75  3.8  11.25  3.51 23.    4.    5.85\n",
      " 20.75 17.    7.05  9.65  1.75  1.7   1.65  1.45  1.35  1.35  1.35  1.25\n",
      "  1.2   1.2   1.2   1.15  1.15  1.15  1.15  1.11  1.1   1.1   1.1   1.05\n",
      "  1.05  1.05  1.05  1.    0.95  0.9   0.9   0.75  0.8   0.78  0.75  0.75\n",
      "  0.75  0.72  0.65  0.65  0.65  0.65  0.6   0.6   0.6   0.6   0.6   0.6\n",
      "  0.6   0.6   0.55  0.55  0.52  0.51  0.5   0.5   0.5   0.5   0.5   0.48\n",
      "  0.48  0.48  0.48  0.45  0.45  0.45  0.45  0.45  0.45  0.45  0.45  0.42\n",
      "  0.42  0.4   0.4   0.4   0.4   0.4   0.38  0.38  0.35  0.35  0.35  0.31\n",
      "  0.3   0.3   0.3   0.27  0.25  0.25  0.25  0.25  0.25  0.2   0.2   0.2\n",
      "  0.2   0.2   0.2   0.18  0.17  0.16  0.15  0.12  0.1   3.25  4.4   2.95\n",
      "  2.75  5.25  5.75  5.15  7.9   4.85  3.1  11.75 11.25  2.9   5.25  4.5\n",
      "  2.9   3.15  6.45  4.5   3.5   4.5   6.    8.25  5.11  2.7   5.25  2.55\n",
      "  4.95  3.1   6.15  9.25 11.45  3.9   5.5   9.1   3.1  11.25  4.8   2.\n",
      "  5.35  4.75  4.4   6.25  5.95  5.2   3.75  5.95  4.    5.25 12.9   5.\n",
      "  5.4   7.2   5.25  3.   10.25  8.5   8.4   3.9   9.15  5.5   4.    6.6\n",
      "  4.    6.5   3.65  8.35  4.8   6.7   4.1   3.    7.5   2.25  5.3  10.9\n",
      "  8.65  9.7   6.    6.25  5.25  2.1   8.25  8.99  3.5   7.4   5.65  5.75\n",
      "  8.4  10.11  4.5   5.4   6.4   3.25  3.75  8.55  9.5   4.    3.35 11.5\n",
      "  5.3 ]\n"
     ]
    }
   ],
   "source": [
    "print(y)"
   ]
  },
  {
   "cell_type": "code",
   "execution_count": 33,
   "metadata": {
    "execution": {
     "iopub.execute_input": "2021-02-14T10:45:23.315464Z",
     "iopub.status.busy": "2021-02-14T10:45:23.314772Z",
     "iopub.status.idle": "2021-02-14T10:45:24.144423Z",
     "shell.execute_reply": "2021-02-14T10:45:24.144907Z"
    },
    "papermill": {
     "duration": 0.909064,
     "end_time": "2021-02-14T10:45:24.145113",
     "exception": false,
     "start_time": "2021-02-14T10:45:23.236049",
     "status": "completed"
    },
    "tags": []
   },
   "outputs": [
    {
     "data": {
      "text/plain": [
       "ExtraTreesRegressor()"
      ]
     },
     "execution_count": 33,
     "metadata": {},
     "output_type": "execute_result"
    }
   ],
   "source": [
    "#Feature Importance\n",
    "from sklearn.ensemble import ExtraTreesRegressor\n",
    "etr=ExtraTreesRegressor()\n",
    "etr.fit(x,y)"
   ]
  },
  {
   "cell_type": "code",
   "execution_count": 34,
   "metadata": {
    "execution": {
     "iopub.execute_input": "2021-02-14T10:45:24.302228Z",
     "iopub.status.busy": "2021-02-14T10:45:24.301290Z",
     "iopub.status.idle": "2021-02-14T10:45:24.315590Z",
     "shell.execute_reply": "2021-02-14T10:45:24.316218Z"
    },
    "papermill": {
     "duration": 0.097146,
     "end_time": "2021-02-14T10:45:24.316401",
     "exception": false,
     "start_time": "2021-02-14T10:45:24.219255",
     "status": "completed"
    },
    "tags": []
   },
   "outputs": [
    {
     "name": "stdout",
     "output_type": "stream",
     "text": [
      "[4.00595891e-01 4.49752226e-02 3.71619108e-04 7.84529393e-02\n",
      " 2.02927199e-01 1.76550035e-02 1.30735395e-01 1.24286731e-01]\n"
     ]
    }
   ],
   "source": [
    "print(etr.feature_importances_)"
   ]
  },
  {
   "cell_type": "code",
   "execution_count": 35,
   "metadata": {
    "execution": {
     "iopub.execute_input": "2021-02-14T10:45:24.471360Z",
     "iopub.status.busy": "2021-02-14T10:45:24.469162Z",
     "iopub.status.idle": "2021-02-14T10:45:24.679660Z",
     "shell.execute_reply": "2021-02-14T10:45:24.680232Z"
    },
    "papermill": {
     "duration": 0.291897,
     "end_time": "2021-02-14T10:45:24.680428",
     "exception": false,
     "start_time": "2021-02-14T10:45:24.388531",
     "status": "completed"
    },
    "tags": []
   },
   "outputs": [
    {
     "data": {
      "image/png": "[encoded data removed]",
      "text/plain": [
       "<Figure size 432x288 with 1 Axes>"
      ]
     },
     "metadata": {
      "needs_background": "light"
     },
     "output_type": "display_data"
    }
   ],
   "source": [
    "#plotting important feature\n",
    "imp=pd.Series(etr.feature_importances_,index=x.columns)\n",
    "imp.nlargest(5).plot(kind='barh')\n",
    "plt.show()"
   ]
  },
  {
   "cell_type": "markdown",
   "metadata": {
    "papermill": {
     "duration": 0.0756,
     "end_time": "2021-02-14T10:45:24.832682",
     "exception": false,
     "start_time": "2021-02-14T10:45:24.757082",
     "status": "completed"
    },
    "tags": []
   },
   "source": [
    "**Train Test Split**"
   ]
  },
  {
   "cell_type": "code",
   "execution_count": 36,
   "metadata": {
    "execution": {
     "iopub.execute_input": "2021-02-14T10:45:24.991141Z",
     "iopub.status.busy": "2021-02-14T10:45:24.990160Z",
     "iopub.status.idle": "2021-02-14T10:45:24.994131Z",
     "shell.execute_reply": "2021-02-14T10:45:24.993577Z"
    },
    "papermill": {
     "duration": 0.086546,
     "end_time": "2021-02-14T10:45:24.994369",
     "exception": false,
     "start_time": "2021-02-14T10:45:24.907823",
     "status": "completed"
    },
    "tags": []
   },
   "outputs": [],
   "source": [
    "from sklearn.model_selection import train_test_split\n",
    "x_train,x_test,y_train,y_test=train_test_split(x,y,test_size=0.2,random_state=2)"
   ]
  },
  {
   "cell_type": "markdown",
   "metadata": {
    "papermill": {
     "duration": 0.075568,
     "end_time": "2021-02-14T10:45:25.146686",
     "exception": false,
     "start_time": "2021-02-14T10:45:25.071118",
     "status": "completed"
    },
    "tags": []
   },
   "source": [
    "### Linear regression "
   ]
  },
  {
   "cell_type": "code",
   "execution_count": 37,
   "metadata": {
    "execution": {
     "iopub.execute_input": "2021-02-14T10:45:25.303254Z",
     "iopub.status.busy": "2021-02-14T10:45:25.302556Z",
     "iopub.status.idle": "2021-02-14T10:45:25.328637Z",
     "shell.execute_reply": "2021-02-14T10:45:25.329223Z"
    },
    "papermill": {
     "duration": 0.106423,
     "end_time": "2021-02-14T10:45:25.329430",
     "exception": false,
     "start_time": "2021-02-14T10:45:25.223007",
     "status": "completed"
    },
    "tags": []
   },
   "outputs": [
    {
     "data": {
      "text/plain": [
       "LinearRegression()"
      ]
     },
     "execution_count": 37,
     "metadata": {},
     "output_type": "execute_result"
    }
   ],
   "source": [
    "from sklearn.linear_model import LinearRegression\n",
    "lr=LinearRegression()\n",
    "lr.fit(x_train,y_train)"
   ]
  },
  {
   "cell_type": "code",
   "execution_count": 38,
   "metadata": {
    "execution": {
     "iopub.execute_input": "2021-02-14T10:45:25.486721Z",
     "iopub.status.busy": "2021-02-14T10:45:25.485955Z",
     "iopub.status.idle": "2021-02-14T10:45:25.497356Z",
     "shell.execute_reply": "2021-02-14T10:45:25.496663Z"
    },
    "papermill": {
     "duration": 0.090502,
     "end_time": "2021-02-14T10:45:25.497531",
     "exception": false,
     "start_time": "2021-02-14T10:45:25.407029",
     "status": "completed"
    },
    "tags": []
   },
   "outputs": [
    {
     "name": "stdout",
     "output_type": "stream",
     "text": [
      "[[10.57889241  9.65      ]\n",
      " [ 0.71754255  0.45      ]\n",
      " [ 4.23613904  4.75      ]\n",
      " [ 5.17855444  3.1       ]\n",
      " [ 9.75533583 11.45      ]\n",
      " [ 4.20615652  4.5       ]\n",
      " [ 2.6748089   2.95      ]\n",
      " [ 7.63221623  6.5       ]\n",
      " [ 0.17032381  0.27      ]\n",
      " [ 5.13283747  6.1       ]\n",
      " [ 6.15727726  6.7       ]\n",
      " [ 6.44545506  4.75      ]\n",
      " [ 2.11900126  0.35      ]\n",
      " [ 7.6644102   8.4       ]\n",
      " [ 1.91710055  2.55      ]\n",
      " [ 1.71680788  0.72      ]\n",
      " [ 2.02672159  0.75      ]\n",
      " [ 1.85294787  0.48      ]\n",
      " [ 9.56717323 11.25      ]\n",
      " [ 4.23076317  4.        ]\n",
      " [ 1.48724915  1.15      ]\n",
      " [ 9.36189904  8.25      ]\n",
      " [ 1.46103587  0.45      ]\n",
      " [ 9.54572517 10.9       ]\n",
      " [ 0.82954545  0.5       ]\n",
      " [ 8.32266051  7.45      ]\n",
      " [ 1.53698563  0.6       ]\n",
      " [-3.16293717  0.2       ]\n",
      " [ 4.2127377   2.9       ]\n",
      " [ 2.10385587  2.85      ]\n",
      " [ 3.42279444  0.45      ]\n",
      " [ 3.71284702  2.75      ]\n",
      " [ 5.54538889  5.25      ]\n",
      " [ 7.6834828   9.7       ]\n",
      " [-1.89757368  0.2       ]\n",
      " [ 7.06591847  5.95      ]\n",
      " [ 8.46027656  8.35      ]\n",
      " [ 5.77704136  5.75      ]\n",
      " [ 6.10531922  7.5       ]\n",
      " [ 6.52919752  5.2       ]\n",
      " [16.08564344 16.        ]\n",
      " [ 2.07410694  0.8       ]\n",
      " [ 1.05462465  0.4       ]\n",
      " [-0.44710144  0.35      ]\n",
      " [ 7.06940454  4.9       ]\n",
      " [ 6.73548589  9.25      ]\n",
      " [ 0.98609923  0.38      ]\n",
      " [ 7.08961114  6.15      ]\n",
      " [14.16420523 19.75      ]\n",
      " [ 3.00434598  2.55      ]\n",
      " [ 8.2871215   6.85      ]\n",
      " [-0.87862345  0.45      ]\n",
      " [ 8.8814273   7.05      ]\n",
      " [ 1.15099681  0.75      ]\n",
      " [ 2.11848057  0.9       ]\n",
      " [-0.82641923  0.38      ]\n",
      " [ 0.69287067  0.4       ]\n",
      " [ 9.88583992  4.        ]\n",
      " [-0.45444272  0.45      ]\n",
      " [-2.41051663  0.12      ]\n",
      " [10.28627971 11.25      ]]\n"
     ]
    }
   ],
   "source": [
    "# predicting value using linear regression\n",
    "y_pred=lr.predict(x_test)\n",
    "print(np.concatenate((y_pred.reshape(len(y_pred),1), y_test.reshape(len(y_test),1)),1))\n"
   ]
  },
  {
   "cell_type": "code",
   "execution_count": 39,
   "metadata": {
    "execution": {
     "iopub.execute_input": "2021-02-14T10:45:25.657998Z",
     "iopub.status.busy": "2021-02-14T10:45:25.657103Z",
     "iopub.status.idle": "2021-02-14T10:45:25.853875Z",
     "shell.execute_reply": "2021-02-14T10:45:25.854383Z"
    },
    "papermill": {
     "duration": 0.279604,
     "end_time": "2021-02-14T10:45:25.854589",
     "exception": false,
     "start_time": "2021-02-14T10:45:25.574985",
     "status": "completed"
    },
    "tags": []
   },
   "outputs": [
    {
     "data": {
      "text/plain": [
       "Text(0.5, 1.0, 'Linear Regression Model')"
      ]
     },
     "execution_count": 39,
     "metadata": {},
     "output_type": "execute_result"
    },
    {
     "data": {
      "image/png": "[encoded data removed]",
      "text/plain": [
       "<Figure size 720x432 with 1 Axes>"
      ]
     },
     "metadata": {
      "needs_background": "light"
     },
     "output_type": "display_data"
    }
   ],
   "source": [
    "plt.figure(figsize=[10,6])\n",
    "plt.plot(y_pred,label='Predicted')\n",
    "plt.plot(y_test,label=\"Actual_test\")\n",
    "plt.legend()\n",
    "plt.title(\"Linear Regression Model\")"
   ]
  },
  {
   "cell_type": "code",
   "execution_count": 40,
   "metadata": {
    "execution": {
     "iopub.execute_input": "2021-02-14T10:45:26.012023Z",
     "iopub.status.busy": "2021-02-14T10:45:26.011364Z",
     "iopub.status.idle": "2021-02-14T10:45:26.019073Z",
     "shell.execute_reply": "2021-02-14T10:45:26.018479Z"
    },
    "papermill": {
     "duration": 0.087909,
     "end_time": "2021-02-14T10:45:26.019245",
     "exception": false,
     "start_time": "2021-02-14T10:45:25.931336",
     "status": "completed"
    },
    "tags": []
   },
   "outputs": [
    {
     "name": "stdout",
     "output_type": "stream",
     "text": [
      "0.8502332355855594\n"
     ]
    }
   ],
   "source": [
    "from sklearn.metrics import r2_score\n",
    "lr_r2=r2_score(y_test, y_pred)\n",
    "print(lr_r2)"
   ]
  },
  {
   "cell_type": "markdown",
   "metadata": {
    "papermill": {
     "duration": 0.076708,
     "end_time": "2021-02-14T10:45:26.173774",
     "exception": false,
     "start_time": "2021-02-14T10:45:26.097066",
     "status": "completed"
    },
    "tags": []
   },
   "source": [
    "### support vector regressor\n"
   ]
  },
  {
   "cell_type": "code",
   "execution_count": 41,
   "metadata": {
    "execution": {
     "iopub.execute_input": "2021-02-14T10:45:26.340467Z",
     "iopub.status.busy": "2021-02-14T10:45:26.339611Z",
     "iopub.status.idle": "2021-02-14T10:45:26.348087Z",
     "shell.execute_reply": "2021-02-14T10:45:26.347331Z"
    },
    "papermill": {
     "duration": 0.095761,
     "end_time": "2021-02-14T10:45:26.348288",
     "exception": false,
     "start_time": "2021-02-14T10:45:26.252527",
     "status": "completed"
    },
    "tags": []
   },
   "outputs": [],
   "source": [
    "# Feature scalling\n",
    "from sklearn.preprocessing import StandardScaler\n",
    "sc_x=StandardScaler()\n",
    "sc_y=StandardScaler()\n",
    "x_train_scaled=sc_x.fit_transform(x_train)\n",
    "y_train=y_train.reshape(len(y_train),1)\n",
    "y_train_scaled=sc_y.fit_transform(y_train)"
   ]
  },
  {
   "cell_type": "code",
   "execution_count": 42,
   "metadata": {
    "execution": {
     "iopub.execute_input": "2021-02-14T10:45:26.511821Z",
     "iopub.status.busy": "2021-02-14T10:45:26.510778Z",
     "iopub.status.idle": "2021-02-14T10:45:26.515829Z",
     "shell.execute_reply": "2021-02-14T10:45:26.515144Z"
    },
    "papermill": {
     "duration": 0.089999,
     "end_time": "2021-02-14T10:45:26.516021",
     "exception": false,
     "start_time": "2021-02-14T10:45:26.426022",
     "status": "completed"
    },
    "tags": []
   },
   "outputs": [
    {
     "name": "stdout",
     "output_type": "stream",
     "text": [
      "[[ 0.17670223 -0.54401039 -0.18569534 ...  0.48694291 -0.71374643\n",
      "   0.3992747 ]\n",
      " [-0.48181541 -0.511331    3.52821143 ...  0.48694291  1.4010578\n",
      "   0.3992747 ]\n",
      " [-0.46521412 -0.85676108 -0.18569534 ...  0.48694291 -0.71374643\n",
      "   0.3992747 ]\n",
      " ...\n",
      " [ 1.19602114  0.43853559 -0.18569534 ...  0.48694291 -0.71374643\n",
      "   0.3992747 ]\n",
      " [ 0.33054081  0.12590514 -0.18569534 ... -2.05362881 -0.71374643\n",
      "   0.3992747 ]\n",
      " [-0.78285205 -0.61954091 -0.18569534 ...  0.48694291  1.4010578\n",
      "   0.3992747 ]]\n"
     ]
    }
   ],
   "source": [
    "print(x_train_scaled)"
   ]
  },
  {
   "cell_type": "code",
   "execution_count": 43,
   "metadata": {
    "execution": {
     "iopub.execute_input": "2021-02-14T10:45:26.683998Z",
     "iopub.status.busy": "2021-02-14T10:45:26.682906Z",
     "iopub.status.idle": "2021-02-14T10:45:26.688666Z",
     "shell.execute_reply": "2021-02-14T10:45:26.688016Z"
    },
    "papermill": {
     "duration": 0.094537,
     "end_time": "2021-02-14T10:45:26.688835",
     "exception": false,
     "start_time": "2021-02-14T10:45:26.594298",
     "status": "completed"
    },
    "tags": []
   },
   "outputs": [
    {
     "name": "stdout",
     "output_type": "stream",
     "text": [
      "[[ 8.32758773e-01]\n",
      " [-6.42273432e-01]\n",
      " [-3.56783327e-01]\n",
      " [-8.04051157e-01]\n",
      " [-6.13724421e-01]\n",
      " [-4.23397685e-01]\n",
      " [-6.80338779e-01]\n",
      " [-7.85018484e-01]\n",
      " [-7.56469473e-01]\n",
      " [-8.07857692e-01]\n",
      " [-1.85489265e-01]\n",
      " [ 2.38701448e-02]\n",
      " [-7.94534820e-01]\n",
      " [-3.75816001e-01]\n",
      " [-2.37115392e-02]\n",
      " [-8.07857692e-01]\n",
      " [-6.42273432e-01]\n",
      " [ 5.09203322e-01]\n",
      " [-4.27442128e-02]\n",
      " [ 1.28549850e-01]\n",
      " [-2.34974216e-01]\n",
      " [-3.47266991e-01]\n",
      " [ 1.00000839e-01]\n",
      " [-6.80338779e-01]\n",
      " [-8.04051157e-01]\n",
      " [-3.56783327e-01]\n",
      " [-5.28077390e-01]\n",
      " [-4.27442128e-02]\n",
      " [-6.89855116e-01]\n",
      " [-4.27442128e-02]\n",
      " [ 2.90327575e-01]\n",
      " [ 7.33550962e-02]\n",
      " [-6.70822442e-01]\n",
      " [ 5.38156777e+00]\n",
      " [-4.70979369e-01]\n",
      " [ 1.76131534e-01]\n",
      " [-4.70979369e-01]\n",
      " [-2.80652633e-01]\n",
      " [-4.23397685e-01]\n",
      " [ 1.28954294e+00]\n",
      " [-7.75502147e-01]\n",
      " [-3.28234317e-01]\n",
      " [-8.42116504e-01]\n",
      " [-6.23240758e-01]\n",
      " [ 1.55600037e+00]\n",
      " [-3.37750654e-01]\n",
      " [-8.61149178e-01]\n",
      " [-4.27442128e-02]\n",
      " [ 1.81294146e+00]\n",
      " [-8.23083831e-01]\n",
      " [-8.23083831e-01]\n",
      " [-6.61306105e-01]\n",
      " [ 3.85490943e-01]\n",
      " [-8.04051157e-01]\n",
      " [ 5.28235995e-01]\n",
      " [ 3.47830040e+00]\n",
      " [-5.75659074e-01]\n",
      " [-8.42116504e-01]\n",
      " [-6.99371452e-01]\n",
      " [ 8.61307784e-01]\n",
      " [ 1.00000839e-01]\n",
      " [ 4.80654311e-01]\n",
      " [ 1.86052315e+00]\n",
      " [ 8.61307784e-01]\n",
      " [-2.33070949e-01]\n",
      " [-6.87951848e-01]\n",
      " [ 1.00000839e-01]\n",
      " [-8.42116504e-01]\n",
      " [-6.89855116e-01]\n",
      " [ 1.02498878e+00]\n",
      " [-7.85018484e-01]\n",
      " [ 8.11822832e-01]\n",
      " [-8.40213237e-01]\n",
      " [-7.85018484e-01]\n",
      " [-1.75972928e-01]\n",
      " [ 1.05163452e+00]\n",
      " [ 5.18719659e-01]\n",
      " [-8.32600168e-01]\n",
      " [-2.61619959e-01]\n",
      " [ 5.28235995e-01]\n",
      " [-8.23083831e-01]\n",
      " [-5.18561053e-01]\n",
      " [-1.37907581e-01]\n",
      " [-8.61149178e-01]\n",
      " [ 2.04680544e-01]\n",
      " [-5.28077390e-01]\n",
      " [-1.85489265e-01]\n",
      " [ 4.83747121e-03]\n",
      " [-7.85018484e-01]\n",
      " [-6.99371452e-01]\n",
      " [-8.13567494e-01]\n",
      " [-6.42273432e-01]\n",
      " [-3.28234317e-01]\n",
      " [-8.51632841e-01]\n",
      " [-8.51632841e-01]\n",
      " [ 3.37909259e-01]\n",
      " [ 4.83747121e-03]\n",
      " [-7.85018484e-01]\n",
      " [-6.80338779e-01]\n",
      " [ 7.47111742e-01]\n",
      " [ 4.83747121e-03]\n",
      " [-6.61306105e-01]\n",
      " [ 7.66144416e-01]\n",
      " [ 4.29028184e-02]\n",
      " [-4.99528379e-01]\n",
      " [-8.61149178e-01]\n",
      " [ 3.33864816e-02]\n",
      " [ 2.42745891e-01]\n",
      " [ 1.00000839e-01]\n",
      " [-2.99685307e-01]\n",
      " [-6.99371452e-01]\n",
      " [ 4.71137975e-01]\n",
      " [-2.80652633e-01]\n",
      " [-8.61149178e-01]\n",
      " [ 1.00000839e-01]\n",
      " [-1.56940254e-01]\n",
      " [-3.94848675e-01]\n",
      " [-6.70822442e-01]\n",
      " [ 1.47582523e-01]\n",
      " [-1.37907581e-01]\n",
      " [-3.09201643e-01]\n",
      " [ 3.47830040e+00]\n",
      " [-8.68762247e-01]\n",
      " [-7.75502147e-01]\n",
      " [ 1.43538080e-02]\n",
      " [-6.70822442e-01]\n",
      " [ 3.18876586e-01]\n",
      " [-2.80652633e-01]\n",
      " [-1.41952024e-02]\n",
      " [-2.31167682e-01]\n",
      " [-8.51632841e-01]\n",
      " [ 1.09517176e-01]\n",
      " [ 2.66941178e+00]\n",
      " [-2.61619959e-01]\n",
      " [ 2.42745891e-01]\n",
      " [-5.66142737e-01]\n",
      " [-8.32600168e-01]\n",
      " [-8.51632841e-01]\n",
      " [ 6.70981048e-01]\n",
      " [-8.00244622e-01]\n",
      " [ 3.57346377e+00]\n",
      " [-4.70979369e-01]\n",
      " [ 7.18562732e-01]\n",
      " [-8.07857692e-01]\n",
      " [-7.85018484e-01]\n",
      " [ 5.75817679e-01]\n",
      " [ 2.90541693e+00]\n",
      " [-8.13567494e-01]\n",
      " [-2.33070949e-01]\n",
      " [ 5.24191552e-02]\n",
      " [ 1.47582523e-01]\n",
      " [ 6.04366690e-01]\n",
      " [ 2.42745891e-01]\n",
      " [-8.02147890e-01]\n",
      " [-7.08887789e-01]\n",
      " [-2.14038275e-01]\n",
      " [ 4.80654311e-01]\n",
      " [-3.85332338e-01]\n",
      " [-8.80181852e-01]\n",
      " [-6.17768864e-02]\n",
      " [-1.18874907e-01]\n",
      " [ 1.00000839e-01]\n",
      " [-8.04051157e-01]\n",
      " [ 2.23713218e-01]\n",
      " [-2.04521938e-01]\n",
      " [ 1.24196126e+00]\n",
      " [-7.94534820e-01]\n",
      " [ 2.33633999e+00]\n",
      " [ 2.90327575e-01]\n",
      " [-7.27920463e-01]\n",
      " [ 1.19033513e-01]\n",
      " [-4.27442128e-02]\n",
      " [ 4.83747121e-03]\n",
      " [ 1.09517176e-01]\n",
      " [-7.12932232e-02]\n",
      " [-7.50759671e-01]\n",
      " [-3.09201643e-01]\n",
      " [-4.27442128e-02]\n",
      " [-3.94848675e-01]\n",
      " [-8.70665515e-01]\n",
      " [ 5.76222124e+00]\n",
      " [-1.47423918e-01]\n",
      " [-3.09201643e-01]\n",
      " [-7.75502147e-01]\n",
      " [ 4.23556291e-01]\n",
      " [ 1.47582523e-01]\n",
      " [ 2.14196881e-01]\n",
      " [-7.85018484e-01]\n",
      " [ 1.47582523e-01]\n",
      " [ 7.28079068e-01]\n",
      " [-6.17768864e-02]\n",
      " [-1.09358570e-01]\n",
      " [ 4.29028184e-02]\n",
      " [ 1.47582523e-01]\n",
      " [ 3.05006525e+00]\n",
      " [ 1.47986968e+00]\n",
      " [ 1.28549850e-01]\n",
      " [-8.51632841e-01]\n",
      " [-3.94848675e-01]\n",
      " [-1.37907581e-01]\n",
      " [ 2.33229555e-01]\n",
      " [-1.56940254e-01]\n",
      " [-7.75502147e-01]\n",
      " [ 5.75817679e-01]\n",
      " [ 8.09681656e-02]\n",
      " [ 6.99530058e-01]\n",
      " [-7.56469473e-01]\n",
      " [ 1.93665384e+00]\n",
      " [ 1.43538080e-02]\n",
      " [ 2.52666672e+00]\n",
      " [ 1.90429830e+00]\n",
      " [-4.51946695e-01]\n",
      " [-6.99371452e-01]\n",
      " [ 1.33712462e+00]\n",
      " [-8.66858980e-01]\n",
      " [-2.42587286e-01]\n",
      " [-3.28234317e-01]\n",
      " [-1.18874907e-01]\n",
      " [ 2.42745891e-01]\n",
      " [-3.28234317e-01]\n",
      " [ 3.47830040e+00]\n",
      " [ 8.42275110e-01]\n",
      " [-5.85175411e-01]\n",
      " [-8.64955713e-01]\n",
      " [-8.19277296e-01]\n",
      " [-6.89855116e-01]\n",
      " [-7.18404126e-01]\n",
      " [ 3.28392923e-01]\n",
      " [ 1.95164207e-01]\n",
      " [-6.99371452e-01]\n",
      " [-3.47266991e-01]\n",
      " [ 9.08889468e-01]\n",
      " [ 2.14196881e-01]\n",
      " [-8.13567494e-01]\n",
      " [ 3.56941933e-01]\n",
      " [-1.47423918e-01]\n",
      " [-6.17768864e-02]\n",
      " [ 5.18719659e-01]\n",
      " [ 5.75817679e-01]\n",
      " [-8.19277296e-01]]\n"
     ]
    }
   ],
   "source": [
    "print(y_train_scaled)"
   ]
  },
  {
   "cell_type": "code",
   "execution_count": 44,
   "metadata": {
    "execution": {
     "iopub.execute_input": "2021-02-14T10:45:26.858566Z",
     "iopub.status.busy": "2021-02-14T10:45:26.857852Z",
     "iopub.status.idle": "2021-02-14T10:45:26.872867Z",
     "shell.execute_reply": "2021-02-14T10:45:26.873652Z"
    },
    "papermill": {
     "duration": 0.10019,
     "end_time": "2021-02-14T10:45:26.873963",
     "exception": false,
     "start_time": "2021-02-14T10:45:26.773773",
     "status": "completed"
    },
    "tags": []
   },
   "outputs": [
    {
     "name": "stderr",
     "output_type": "stream",
     "text": [
      "/opt/conda/lib/python3.7/site-packages/sklearn/utils/validation.py:72: DataConversionWarning: A column-vector y was passed when a 1d array was expected. Please change the shape of y to (n_samples, ), for example using ravel().\n",
      "  return f(**kwargs)\n"
     ]
    },
    {
     "data": {
      "text/plain": [
       "SVR()"
      ]
     },
     "execution_count": 44,
     "metadata": {},
     "output_type": "execute_result"
    }
   ],
   "source": [
    "from sklearn.svm import SVR\n",
    "svr=SVR(kernel='rbf')\n",
    "svr.fit(x_train_scaled,y_train_scaled)"
   ]
  },
  {
   "cell_type": "code",
   "execution_count": 45,
   "metadata": {
    "execution": {
     "iopub.execute_input": "2021-02-14T10:45:27.048181Z",
     "iopub.status.busy": "2021-02-14T10:45:27.047459Z",
     "iopub.status.idle": "2021-02-14T10:45:27.052580Z",
     "shell.execute_reply": "2021-02-14T10:45:27.053268Z"
    },
    "papermill": {
     "duration": 0.097949,
     "end_time": "2021-02-14T10:45:27.053537",
     "exception": false,
     "start_time": "2021-02-14T10:45:26.955588",
     "status": "completed"
    },
    "tags": []
   },
   "outputs": [
    {
     "name": "stdout",
     "output_type": "stream",
     "text": [
      "[[ 8.67875632  9.65      ]\n",
      " [ 0.5444014   0.45      ]\n",
      " [ 4.21796967  4.75      ]\n",
      " [ 3.11798917  3.1       ]\n",
      " [ 8.58826108 11.45      ]\n",
      " [ 4.44414213  4.5       ]\n",
      " [ 3.17434638  2.95      ]\n",
      " [ 6.90226486  6.5       ]\n",
      " [ 0.37525319  0.27      ]\n",
      " [ 5.47078354  6.1       ]\n",
      " [ 6.95519108  6.7       ]\n",
      " [ 4.95358668  4.75      ]\n",
      " [ 0.45828276  0.35      ]\n",
      " [ 8.76223324  8.4       ]\n",
      " [ 2.04536798  2.55      ]\n",
      " [ 1.10020129  0.72      ]\n",
      " [ 1.1748531   0.75      ]\n",
      " [ 1.02167328  0.48      ]\n",
      " [ 9.12451706 11.25      ]\n",
      " [ 4.13039872  4.        ]\n",
      " [ 1.22944732  1.15      ]\n",
      " [ 8.78506083  8.25      ]\n",
      " [ 0.80898914  0.45      ]\n",
      " [ 8.50032091 10.9       ]\n",
      " [ 0.70233083  0.5       ]\n",
      " [ 7.7839875   7.45      ]\n",
      " [ 0.86389388  0.6       ]\n",
      " [ 1.13471049  0.2       ]\n",
      " [ 4.13648658  2.9       ]\n",
      " [ 2.67406123  2.85      ]\n",
      " [ 0.92564787  0.45      ]\n",
      " [ 3.58094688  2.75      ]\n",
      " [ 5.99538713  5.25      ]\n",
      " [ 8.8524898   9.7       ]\n",
      " [ 0.39840555  0.2       ]\n",
      " [ 5.563907    5.95      ]\n",
      " [ 8.37879073  8.35      ]\n",
      " [ 6.08283543  5.75      ]\n",
      " [ 6.74521394  7.5       ]\n",
      " [ 4.68679989  5.2       ]\n",
      " [ 9.21646692 16.        ]\n",
      " [ 1.25014047  0.8       ]\n",
      " [ 0.63998115  0.4       ]\n",
      " [ 0.41766364  0.35      ]\n",
      " [ 5.55435063  4.9       ]\n",
      " [ 7.49299578  9.25      ]\n",
      " [ 0.62914634  0.38      ]\n",
      " [ 5.61882567  6.15      ]\n",
      " [11.12011499 19.75      ]\n",
      " [ 2.8002111   2.55      ]\n",
      " [ 7.64978264  6.85      ]\n",
      " [ 0.43832021  0.45      ]\n",
      " [ 8.22655028  7.05      ]\n",
      " [ 0.70285742  0.75      ]\n",
      " [ 1.29898703  0.9       ]\n",
      " [ 0.44296379  0.38      ]\n",
      " [ 0.55988231  0.4       ]\n",
      " [ 4.09885638  4.        ]\n",
      " [ 0.43837449  0.45      ]\n",
      " [ 0.44517756  0.12      ]\n",
      " [10.12553226 11.25      ]]\n"
     ]
    }
   ],
   "source": [
    "#predicting values\n",
    "y_pred=sc_y.inverse_transform(svr.predict(sc_x.transform(x_test)))\n",
    "print(np.concatenate((y_pred.reshape(len(y_pred),1), y_test.reshape(len(y_test),1)),1))"
   ]
  },
  {
   "cell_type": "code",
   "execution_count": 46,
   "metadata": {
    "execution": {
     "iopub.execute_input": "2021-02-14T10:45:27.254432Z",
     "iopub.status.busy": "2021-02-14T10:45:27.242510Z",
     "iopub.status.idle": "2021-02-14T10:45:27.451588Z",
     "shell.execute_reply": "2021-02-14T10:45:27.451029Z"
    },
    "papermill": {
     "duration": 0.3155,
     "end_time": "2021-02-14T10:45:27.451749",
     "exception": false,
     "start_time": "2021-02-14T10:45:27.136249",
     "status": "completed"
    },
    "tags": []
   },
   "outputs": [
    {
     "data": {
      "text/plain": [
       "Text(0.5, 1.0, 'Support Vector Regressor Model')"
      ]
     },
     "execution_count": 46,
     "metadata": {},
     "output_type": "execute_result"
    },
    {
     "data": {
      "image/png": "[encoded data removed]",
      "text/plain": [
       "<Figure size 720x432 with 1 Axes>"
      ]
     },
     "metadata": {
      "needs_background": "light"
     },
     "output_type": "display_data"
    }
   ],
   "source": [
    "plt.figure(figsize=[10,6])\n",
    "plt.plot(y_pred,label='Predicted')\n",
    "plt.plot(y_test,label=\"Actual_test\")\n",
    "plt.legend()\n",
    "plt.title(\"Support Vector Regressor Model\")"
   ]
  },
  {
   "cell_type": "code",
   "execution_count": 47,
   "metadata": {
    "execution": {
     "iopub.execute_input": "2021-02-14T10:45:27.621608Z",
     "iopub.status.busy": "2021-02-14T10:45:27.620713Z",
     "iopub.status.idle": "2021-02-14T10:45:27.626265Z",
     "shell.execute_reply": "2021-02-14T10:45:27.627114Z"
    },
    "papermill": {
     "duration": 0.093474,
     "end_time": "2021-02-14T10:45:27.627352",
     "exception": false,
     "start_time": "2021-02-14T10:45:27.533878",
     "status": "completed"
    },
    "tags": []
   },
   "outputs": [
    {
     "name": "stdout",
     "output_type": "stream",
     "text": [
      "0.8606360462605934\n"
     ]
    }
   ],
   "source": [
    "svr_r2=r2_score(y_test, y_pred)\n",
    "print(svr_r2)"
   ]
  },
  {
   "cell_type": "markdown",
   "metadata": {
    "papermill": {
     "duration": 0.082784,
     "end_time": "2021-02-14T10:45:27.793877",
     "exception": false,
     "start_time": "2021-02-14T10:45:27.711093",
     "status": "completed"
    },
    "tags": []
   },
   "source": [
    "### Random Forest "
   ]
  },
  {
   "cell_type": "code",
   "execution_count": 48,
   "metadata": {
    "execution": {
     "iopub.execute_input": "2021-02-14T10:45:27.970473Z",
     "iopub.status.busy": "2021-02-14T10:45:27.969753Z",
     "iopub.status.idle": "2021-02-14T10:45:27.973410Z",
     "shell.execute_reply": "2021-02-14T10:45:27.972697Z"
    },
    "papermill": {
     "duration": 0.09348,
     "end_time": "2021-02-14T10:45:27.973574",
     "exception": false,
     "start_time": "2021-02-14T10:45:27.880094",
     "status": "completed"
    },
    "tags": []
   },
   "outputs": [],
   "source": [
    "from sklearn.ensemble import RandomForestRegressor\n",
    "rfr=RandomForestRegressor()\n"
   ]
  },
  {
   "cell_type": "code",
   "execution_count": 49,
   "metadata": {
    "execution": {
     "iopub.execute_input": "2021-02-14T10:45:28.147006Z",
     "iopub.status.busy": "2021-02-14T10:45:28.146317Z",
     "iopub.status.idle": "2021-02-14T10:45:28.149388Z",
     "shell.execute_reply": "2021-02-14T10:45:28.148831Z"
    },
    "papermill": {
     "duration": 0.092419,
     "end_time": "2021-02-14T10:45:28.149544",
     "exception": false,
     "start_time": "2021-02-14T10:45:28.057125",
     "status": "completed"
    },
    "tags": []
   },
   "outputs": [],
   "source": [
    "from sklearn.model_selection import RandomizedSearchCV\n",
    "n_estimators=[100,200,300,400,500,600,700,800,900,1000,1100,1200]\n",
    "max_features=['auto','sqrt']\n",
    "max_depth=[5,10,15,20,25,30]\n",
    "min_samples_split=[2,5,10,15,100]\n",
    "min_samples_leaf=[1,2,5,10,12]"
   ]
  },
  {
   "cell_type": "code",
   "execution_count": 50,
   "metadata": {
    "execution": {
     "iopub.execute_input": "2021-02-14T10:45:28.323782Z",
     "iopub.status.busy": "2021-02-14T10:45:28.321898Z",
     "iopub.status.idle": "2021-02-14T10:45:28.326987Z",
     "shell.execute_reply": "2021-02-14T10:45:28.326455Z"
    },
    "papermill": {
     "duration": 0.09369,
     "end_time": "2021-02-14T10:45:28.327154",
     "exception": false,
     "start_time": "2021-02-14T10:45:28.233464",
     "status": "completed"
    },
    "tags": []
   },
   "outputs": [
    {
     "name": "stdout",
     "output_type": "stream",
     "text": [
      "{'n_estimators': [100, 200, 300, 400, 500, 600, 700, 800, 900, 1000, 1100, 1200], 'max_features': ['auto', 'sqrt'], 'max_depth': [5, 10, 15, 20, 25, 30], 'min_samples_split': [2, 5, 10, 15, 100], 'min_samples_leaf': [1, 2, 5, 10, 12]}\n"
     ]
    }
   ],
   "source": [
    "# creating random grid\n",
    "random_grid={'n_estimators': n_estimators,'max_features': max_features,\n",
    "            'max_depth': max_depth,'min_samples_split': min_samples_split,\n",
    "            'min_samples_leaf': min_samples_leaf}\n",
    "print(random_grid)"
   ]
  },
  {
   "cell_type": "code",
   "execution_count": 51,
   "metadata": {
    "execution": {
     "iopub.execute_input": "2021-02-14T10:45:28.497510Z",
     "iopub.status.busy": "2021-02-14T10:45:28.496826Z",
     "iopub.status.idle": "2021-02-14T10:45:28.500286Z",
     "shell.execute_reply": "2021-02-14T10:45:28.499704Z"
    },
    "papermill": {
     "duration": 0.091081,
     "end_time": "2021-02-14T10:45:28.500443",
     "exception": false,
     "start_time": "2021-02-14T10:45:28.409362",
     "status": "completed"
    },
    "tags": []
   },
   "outputs": [],
   "source": [
    "rfr_random = RandomizedSearchCV(estimator = rfr, param_distributions = random_grid, n_iter = 10, cv = 6, verbose=2, random_state=14, n_jobs = 1)\n"
   ]
  },
  {
   "cell_type": "code",
   "execution_count": 52,
   "metadata": {
    "execution": {
     "iopub.execute_input": "2021-02-14T10:45:28.673362Z",
     "iopub.status.busy": "2021-02-14T10:45:28.672612Z",
     "iopub.status.idle": "2021-02-14T10:46:45.728549Z",
     "shell.execute_reply": "2021-02-14T10:46:45.729604Z"
    },
    "papermill": {
     "duration": 77.147161,
     "end_time": "2021-02-14T10:46:45.729889",
     "exception": false,
     "start_time": "2021-02-14T10:45:28.582728",
     "status": "completed"
    },
    "tags": []
   },
   "outputs": [
    {
     "name": "stdout",
     "output_type": "stream",
     "text": [
      "Fitting 6 folds for each of 10 candidates, totalling 60 fits\n",
      "[CV] n_estimators=400, min_samples_split=10, min_samples_leaf=12, max_features=auto, max_depth=25 \n"
     ]
    },
    {
     "name": "stderr",
     "output_type": "stream",
     "text": [
      "[Parallel(n_jobs=1)]: Using backend SequentialBackend with 1 concurrent workers.\n"
     ]
    },
    {
     "name": "stdout",
     "output_type": "stream",
     "text": [
      "[CV]  n_estimators=400, min_samples_split=10, min_samples_leaf=12, max_features=auto, max_depth=25, total=   0.7s\n",
      "[CV] n_estimators=400, min_samples_split=10, min_samples_leaf=12, max_features=auto, max_depth=25 \n"
     ]
    },
    {
     "name": "stderr",
     "output_type": "stream",
     "text": [
      "[Parallel(n_jobs=1)]: Done   1 out of   1 | elapsed:    0.7s remaining:    0.0s\n"
     ]
    },
    {
     "name": "stdout",
     "output_type": "stream",
     "text": [
      "[CV]  n_estimators=400, min_samples_split=10, min_samples_leaf=12, max_features=auto, max_depth=25, total=   0.7s\n",
      "[CV] n_estimators=400, min_samples_split=10, min_samples_leaf=12, max_features=auto, max_depth=25 \n",
      "[CV]  n_estimators=400, min_samples_split=10, min_samples_leaf=12, max_features=auto, max_depth=25, total=   0.8s\n",
      "[CV] n_estimators=400, min_samples_split=10, min_samples_leaf=12, max_features=auto, max_depth=25 \n",
      "[CV]  n_estimators=400, min_samples_split=10, min_samples_leaf=12, max_features=auto, max_depth=25, total=   0.7s\n",
      "[CV] n_estimators=400, min_samples_split=10, min_samples_leaf=12, max_features=auto, max_depth=25 \n",
      "[CV]  n_estimators=400, min_samples_split=10, min_samples_leaf=12, max_features=auto, max_depth=25, total=   0.7s\n",
      "[CV] n_estimators=400, min_samples_split=10, min_samples_leaf=12, max_features=auto, max_depth=25 \n",
      "[CV]  n_estimators=400, min_samples_split=10, min_samples_leaf=12, max_features=auto, max_depth=25, total=   0.8s\n",
      "[CV] n_estimators=100, min_samples_split=100, min_samples_leaf=5, max_features=auto, max_depth=15 \n",
      "[CV]  n_estimators=100, min_samples_split=100, min_samples_leaf=5, max_features=auto, max_depth=15, total=   0.2s\n",
      "[CV] n_estimators=100, min_samples_split=100, min_samples_leaf=5, max_features=auto, max_depth=15 \n",
      "[CV]  n_estimators=100, min_samples_split=100, min_samples_leaf=5, max_features=auto, max_depth=15, total=   0.2s\n",
      "[CV] n_estimators=100, min_samples_split=100, min_samples_leaf=5, max_features=auto, max_depth=15 \n",
      "[CV]  n_estimators=100, min_samples_split=100, min_samples_leaf=5, max_features=auto, max_depth=15, total=   0.2s\n",
      "[CV] n_estimators=100, min_samples_split=100, min_samples_leaf=5, max_features=auto, max_depth=15 \n",
      "[CV]  n_estimators=100, min_samples_split=100, min_samples_leaf=5, max_features=auto, max_depth=15, total=   0.2s\n",
      "[CV] n_estimators=100, min_samples_split=100, min_samples_leaf=5, max_features=auto, max_depth=15 \n",
      "[CV]  n_estimators=100, min_samples_split=100, min_samples_leaf=5, max_features=auto, max_depth=15, total=   0.2s\n",
      "[CV] n_estimators=100, min_samples_split=100, min_samples_leaf=5, max_features=auto, max_depth=15 \n",
      "[CV]  n_estimators=100, min_samples_split=100, min_samples_leaf=5, max_features=auto, max_depth=15, total=   0.2s\n",
      "[CV] n_estimators=900, min_samples_split=10, min_samples_leaf=2, max_features=auto, max_depth=15 \n",
      "[CV]  n_estimators=900, min_samples_split=10, min_samples_leaf=2, max_features=auto, max_depth=15, total=   1.8s\n",
      "[CV] n_estimators=900, min_samples_split=10, min_samples_leaf=2, max_features=auto, max_depth=15 \n",
      "[CV]  n_estimators=900, min_samples_split=10, min_samples_leaf=2, max_features=auto, max_depth=15, total=   1.7s\n",
      "[CV] n_estimators=900, min_samples_split=10, min_samples_leaf=2, max_features=auto, max_depth=15 \n",
      "[CV]  n_estimators=900, min_samples_split=10, min_samples_leaf=2, max_features=auto, max_depth=15, total=   1.8s\n",
      "[CV] n_estimators=900, min_samples_split=10, min_samples_leaf=2, max_features=auto, max_depth=15 \n",
      "[CV]  n_estimators=900, min_samples_split=10, min_samples_leaf=2, max_features=auto, max_depth=15, total=   1.7s\n",
      "[CV] n_estimators=900, min_samples_split=10, min_samples_leaf=2, max_features=auto, max_depth=15 \n",
      "[CV]  n_estimators=900, min_samples_split=10, min_samples_leaf=2, max_features=auto, max_depth=15, total=   1.8s\n",
      "[CV] n_estimators=900, min_samples_split=10, min_samples_leaf=2, max_features=auto, max_depth=15 \n",
      "[CV]  n_estimators=900, min_samples_split=10, min_samples_leaf=2, max_features=auto, max_depth=15, total=   1.8s\n",
      "[CV] n_estimators=700, min_samples_split=100, min_samples_leaf=1, max_features=auto, max_depth=25 \n",
      "[CV]  n_estimators=700, min_samples_split=100, min_samples_leaf=1, max_features=auto, max_depth=25, total=   1.2s\n",
      "[CV] n_estimators=700, min_samples_split=100, min_samples_leaf=1, max_features=auto, max_depth=25 \n",
      "[CV]  n_estimators=700, min_samples_split=100, min_samples_leaf=1, max_features=auto, max_depth=25, total=   1.2s\n",
      "[CV] n_estimators=700, min_samples_split=100, min_samples_leaf=1, max_features=auto, max_depth=25 \n",
      "[CV]  n_estimators=700, min_samples_split=100, min_samples_leaf=1, max_features=auto, max_depth=25, total=   1.2s\n",
      "[CV] n_estimators=700, min_samples_split=100, min_samples_leaf=1, max_features=auto, max_depth=25 \n",
      "[CV]  n_estimators=700, min_samples_split=100, min_samples_leaf=1, max_features=auto, max_depth=25, total=   1.2s\n",
      "[CV] n_estimators=700, min_samples_split=100, min_samples_leaf=1, max_features=auto, max_depth=25 \n",
      "[CV]  n_estimators=700, min_samples_split=100, min_samples_leaf=1, max_features=auto, max_depth=25, total=   1.2s\n",
      "[CV] n_estimators=700, min_samples_split=100, min_samples_leaf=1, max_features=auto, max_depth=25 \n",
      "[CV]  n_estimators=700, min_samples_split=100, min_samples_leaf=1, max_features=auto, max_depth=25, total=   1.2s\n",
      "[CV] n_estimators=1200, min_samples_split=10, min_samples_leaf=12, max_features=sqrt, max_depth=20 \n",
      "[CV]  n_estimators=1200, min_samples_split=10, min_samples_leaf=12, max_features=sqrt, max_depth=20, total=   2.1s\n",
      "[CV] n_estimators=1200, min_samples_split=10, min_samples_leaf=12, max_features=sqrt, max_depth=20 \n",
      "[CV]  n_estimators=1200, min_samples_split=10, min_samples_leaf=12, max_features=sqrt, max_depth=20, total=   2.1s\n",
      "[CV] n_estimators=1200, min_samples_split=10, min_samples_leaf=12, max_features=sqrt, max_depth=20 \n",
      "[CV]  n_estimators=1200, min_samples_split=10, min_samples_leaf=12, max_features=sqrt, max_depth=20, total=   2.1s\n",
      "[CV] n_estimators=1200, min_samples_split=10, min_samples_leaf=12, max_features=sqrt, max_depth=20 \n",
      "[CV]  n_estimators=1200, min_samples_split=10, min_samples_leaf=12, max_features=sqrt, max_depth=20, total=   2.1s\n",
      "[CV] n_estimators=1200, min_samples_split=10, min_samples_leaf=12, max_features=sqrt, max_depth=20 \n",
      "[CV]  n_estimators=1200, min_samples_split=10, min_samples_leaf=12, max_features=sqrt, max_depth=20, total=   2.1s\n",
      "[CV] n_estimators=1200, min_samples_split=10, min_samples_leaf=12, max_features=sqrt, max_depth=20 \n",
      "[CV]  n_estimators=1200, min_samples_split=10, min_samples_leaf=12, max_features=sqrt, max_depth=20, total=   2.1s\n",
      "[CV] n_estimators=1100, min_samples_split=2, min_samples_leaf=5, max_features=sqrt, max_depth=30 \n",
      "[CV]  n_estimators=1100, min_samples_split=2, min_samples_leaf=5, max_features=sqrt, max_depth=30, total=   1.9s\n",
      "[CV] n_estimators=1100, min_samples_split=2, min_samples_leaf=5, max_features=sqrt, max_depth=30 \n",
      "[CV]  n_estimators=1100, min_samples_split=2, min_samples_leaf=5, max_features=sqrt, max_depth=30, total=   1.9s\n",
      "[CV] n_estimators=1100, min_samples_split=2, min_samples_leaf=5, max_features=sqrt, max_depth=30 \n",
      "[CV]  n_estimators=1100, min_samples_split=2, min_samples_leaf=5, max_features=sqrt, max_depth=30, total=   1.9s\n",
      "[CV] n_estimators=1100, min_samples_split=2, min_samples_leaf=5, max_features=sqrt, max_depth=30 \n",
      "[CV]  n_estimators=1100, min_samples_split=2, min_samples_leaf=5, max_features=sqrt, max_depth=30, total=   1.9s\n",
      "[CV] n_estimators=1100, min_samples_split=2, min_samples_leaf=5, max_features=sqrt, max_depth=30 \n",
      "[CV]  n_estimators=1100, min_samples_split=2, min_samples_leaf=5, max_features=sqrt, max_depth=30, total=   1.9s\n",
      "[CV] n_estimators=1100, min_samples_split=2, min_samples_leaf=5, max_features=sqrt, max_depth=30 \n",
      "[CV]  n_estimators=1100, min_samples_split=2, min_samples_leaf=5, max_features=sqrt, max_depth=30, total=   2.0s\n",
      "[CV] n_estimators=300, min_samples_split=10, min_samples_leaf=5, max_features=auto, max_depth=10 \n",
      "[CV]  n_estimators=300, min_samples_split=10, min_samples_leaf=5, max_features=auto, max_depth=10, total=   0.6s\n",
      "[CV] n_estimators=300, min_samples_split=10, min_samples_leaf=5, max_features=auto, max_depth=10 \n",
      "[CV]  n_estimators=300, min_samples_split=10, min_samples_leaf=5, max_features=auto, max_depth=10, total=   0.6s\n",
      "[CV] n_estimators=300, min_samples_split=10, min_samples_leaf=5, max_features=auto, max_depth=10 \n",
      "[CV]  n_estimators=300, min_samples_split=10, min_samples_leaf=5, max_features=auto, max_depth=10, total=   0.6s\n",
      "[CV] n_estimators=300, min_samples_split=10, min_samples_leaf=5, max_features=auto, max_depth=10 \n",
      "[CV]  n_estimators=300, min_samples_split=10, min_samples_leaf=5, max_features=auto, max_depth=10, total=   0.6s\n",
      "[CV] n_estimators=300, min_samples_split=10, min_samples_leaf=5, max_features=auto, max_depth=10 \n",
      "[CV]  n_estimators=300, min_samples_split=10, min_samples_leaf=5, max_features=auto, max_depth=10, total=   0.6s\n",
      "[CV] n_estimators=300, min_samples_split=10, min_samples_leaf=5, max_features=auto, max_depth=10 \n",
      "[CV]  n_estimators=300, min_samples_split=10, min_samples_leaf=5, max_features=auto, max_depth=10, total=   0.6s\n",
      "[CV] n_estimators=500, min_samples_split=5, min_samples_leaf=1, max_features=sqrt, max_depth=25 \n",
      "[CV]  n_estimators=500, min_samples_split=5, min_samples_leaf=1, max_features=sqrt, max_depth=25, total=   0.9s\n",
      "[CV] n_estimators=500, min_samples_split=5, min_samples_leaf=1, max_features=sqrt, max_depth=25 \n",
      "[CV]  n_estimators=500, min_samples_split=5, min_samples_leaf=1, max_features=sqrt, max_depth=25, total=   0.9s\n",
      "[CV] n_estimators=500, min_samples_split=5, min_samples_leaf=1, max_features=sqrt, max_depth=25 \n",
      "[CV]  n_estimators=500, min_samples_split=5, min_samples_leaf=1, max_features=sqrt, max_depth=25, total=   1.0s\n",
      "[CV] n_estimators=500, min_samples_split=5, min_samples_leaf=1, max_features=sqrt, max_depth=25 \n",
      "[CV]  n_estimators=500, min_samples_split=5, min_samples_leaf=1, max_features=sqrt, max_depth=25, total=   0.9s\n",
      "[CV] n_estimators=500, min_samples_split=5, min_samples_leaf=1, max_features=sqrt, max_depth=25 \n",
      "[CV]  n_estimators=500, min_samples_split=5, min_samples_leaf=1, max_features=sqrt, max_depth=25, total=   0.9s\n",
      "[CV] n_estimators=500, min_samples_split=5, min_samples_leaf=1, max_features=sqrt, max_depth=25 \n",
      "[CV]  n_estimators=500, min_samples_split=5, min_samples_leaf=1, max_features=sqrt, max_depth=25, total=   0.9s\n",
      "[CV] n_estimators=700, min_samples_split=100, min_samples_leaf=5, max_features=sqrt, max_depth=15 \n",
      "[CV]  n_estimators=700, min_samples_split=100, min_samples_leaf=5, max_features=sqrt, max_depth=15, total=   1.3s\n",
      "[CV] n_estimators=700, min_samples_split=100, min_samples_leaf=5, max_features=sqrt, max_depth=15 \n",
      "[CV]  n_estimators=700, min_samples_split=100, min_samples_leaf=5, max_features=sqrt, max_depth=15, total=   1.2s\n",
      "[CV] n_estimators=700, min_samples_split=100, min_samples_leaf=5, max_features=sqrt, max_depth=15 \n",
      "[CV]  n_estimators=700, min_samples_split=100, min_samples_leaf=5, max_features=sqrt, max_depth=15, total=   1.2s\n",
      "[CV] n_estimators=700, min_samples_split=100, min_samples_leaf=5, max_features=sqrt, max_depth=15 \n",
      "[CV]  n_estimators=700, min_samples_split=100, min_samples_leaf=5, max_features=sqrt, max_depth=15, total=   1.2s\n",
      "[CV] n_estimators=700, min_samples_split=100, min_samples_leaf=5, max_features=sqrt, max_depth=15 \n",
      "[CV]  n_estimators=700, min_samples_split=100, min_samples_leaf=5, max_features=sqrt, max_depth=15, total=   1.2s\n",
      "[CV] n_estimators=700, min_samples_split=100, min_samples_leaf=5, max_features=sqrt, max_depth=15 \n",
      "[CV]  n_estimators=700, min_samples_split=100, min_samples_leaf=5, max_features=sqrt, max_depth=15, total=   1.2s\n",
      "[CV] n_estimators=900, min_samples_split=10, min_samples_leaf=1, max_features=auto, max_depth=15 \n",
      "[CV]  n_estimators=900, min_samples_split=10, min_samples_leaf=1, max_features=auto, max_depth=15, total=   1.8s\n",
      "[CV] n_estimators=900, min_samples_split=10, min_samples_leaf=1, max_features=auto, max_depth=15 \n",
      "[CV]  n_estimators=900, min_samples_split=10, min_samples_leaf=1, max_features=auto, max_depth=15, total=   2.0s\n",
      "[CV] n_estimators=900, min_samples_split=10, min_samples_leaf=1, max_features=auto, max_depth=15 \n",
      "[CV]  n_estimators=900, min_samples_split=10, min_samples_leaf=1, max_features=auto, max_depth=15, total=   1.8s\n",
      "[CV] n_estimators=900, min_samples_split=10, min_samples_leaf=1, max_features=auto, max_depth=15 \n",
      "[CV]  n_estimators=900, min_samples_split=10, min_samples_leaf=1, max_features=auto, max_depth=15, total=   1.8s\n",
      "[CV] n_estimators=900, min_samples_split=10, min_samples_leaf=1, max_features=auto, max_depth=15 \n",
      "[CV]  n_estimators=900, min_samples_split=10, min_samples_leaf=1, max_features=auto, max_depth=15, total=   1.9s\n",
      "[CV] n_estimators=900, min_samples_split=10, min_samples_leaf=1, max_features=auto, max_depth=15 \n",
      "[CV]  n_estimators=900, min_samples_split=10, min_samples_leaf=1, max_features=auto, max_depth=15, total=   1.8s\n"
     ]
    },
    {
     "name": "stderr",
     "output_type": "stream",
     "text": [
      "[Parallel(n_jobs=1)]: Done  60 out of  60 | elapsed:  1.3min finished\n"
     ]
    },
    {
     "data": {
      "text/plain": [
       "RandomizedSearchCV(cv=6, estimator=RandomForestRegressor(), n_jobs=1,\n",
       "                   param_distributions={'max_depth': [5, 10, 15, 20, 25, 30],\n",
       "                                        'max_features': ['auto', 'sqrt'],\n",
       "                                        'min_samples_leaf': [1, 2, 5, 10, 12],\n",
       "                                        'min_samples_split': [2, 5, 10, 15,\n",
       "                                                              100],\n",
       "                                        'n_estimators': [100, 200, 300, 400,\n",
       "                                                         500, 600, 700, 800,\n",
       "                                                         900, 1000, 1100,\n",
       "                                                         1200]},\n",
       "                   random_state=14, verbose=2)"
      ]
     },
     "execution_count": 52,
     "metadata": {},
     "output_type": "execute_result"
    }
   ],
   "source": [
    "rfr_random.fit(x,y)"
   ]
  },
  {
   "cell_type": "code",
   "execution_count": 53,
   "metadata": {
    "execution": {
     "iopub.execute_input": "2021-02-14T10:46:45.956233Z",
     "iopub.status.busy": "2021-02-14T10:46:45.955272Z",
     "iopub.status.idle": "2021-02-14T10:46:45.961187Z",
     "shell.execute_reply": "2021-02-14T10:46:45.961806Z"
    },
    "papermill": {
     "duration": 0.119326,
     "end_time": "2021-02-14T10:46:45.962016",
     "exception": false,
     "start_time": "2021-02-14T10:46:45.842690",
     "status": "completed"
    },
    "tags": []
   },
   "outputs": [
    {
     "data": {
      "text/plain": [
       "{'n_estimators': 900,\n",
       " 'min_samples_split': 10,\n",
       " 'min_samples_leaf': 2,\n",
       " 'max_features': 'auto',\n",
       " 'max_depth': 15}"
      ]
     },
     "execution_count": 53,
     "metadata": {},
     "output_type": "execute_result"
    }
   ],
   "source": [
    "rfr_random.best_params_"
   ]
  },
  {
   "cell_type": "code",
   "execution_count": 54,
   "metadata": {
    "execution": {
     "iopub.execute_input": "2021-02-14T10:46:46.175206Z",
     "iopub.status.busy": "2021-02-14T10:46:46.174249Z",
     "iopub.status.idle": "2021-02-14T10:46:46.182663Z",
     "shell.execute_reply": "2021-02-14T10:46:46.182041Z"
    },
    "papermill": {
     "duration": 0.115209,
     "end_time": "2021-02-14T10:46:46.182817",
     "exception": false,
     "start_time": "2021-02-14T10:46:46.067608",
     "status": "completed"
    },
    "tags": []
   },
   "outputs": [
    {
     "data": {
      "text/plain": [
       "-0.5821589428961734"
      ]
     },
     "execution_count": 54,
     "metadata": {},
     "output_type": "execute_result"
    }
   ],
   "source": [
    "rfr_random.best_score_"
   ]
  },
  {
   "cell_type": "code",
   "execution_count": 55,
   "metadata": {
    "execution": {
     "iopub.execute_input": "2021-02-14T10:46:46.421087Z",
     "iopub.status.busy": "2021-02-14T10:46:46.419594Z",
     "iopub.status.idle": "2021-02-14T10:46:46.498942Z",
     "shell.execute_reply": "2021-02-14T10:46:46.498254Z"
    },
    "papermill": {
     "duration": 0.206107,
     "end_time": "2021-02-14T10:46:46.499103",
     "exception": false,
     "start_time": "2021-02-14T10:46:46.292996",
     "status": "completed"
    },
    "tags": []
   },
   "outputs": [
    {
     "name": "stdout",
     "output_type": "stream",
     "text": [
      "[[ 7.81694731  9.65      ]\n",
      " [ 0.52847306  0.45      ]\n",
      " [ 4.2044278   4.75      ]\n",
      " [ 3.42317405  3.1       ]\n",
      " [10.8463414  11.45      ]\n",
      " [ 4.76146577  4.5       ]\n",
      " [ 3.18389506  2.95      ]\n",
      " [ 6.79049249  6.5       ]\n",
      " [ 0.27428455  0.27      ]\n",
      " [ 5.79838989  6.1       ]\n",
      " [ 7.29056323  6.7       ]\n",
      " [ 4.36264991  4.75      ]\n",
      " [ 0.35482906  0.35      ]\n",
      " [ 9.49709652  8.4       ]\n",
      " [ 2.5681433   2.55      ]\n",
      " [ 0.73959292  0.72      ]\n",
      " [ 0.70907144  0.75      ]\n",
      " [ 0.44483996  0.48      ]\n",
      " [10.35875058 11.25      ]\n",
      " [ 4.30290795  4.        ]\n",
      " [ 1.22678403  1.15      ]\n",
      " [ 8.26864643  8.25      ]\n",
      " [ 0.44255279  0.45      ]\n",
      " [10.18509364 10.9       ]\n",
      " [ 0.56354176  0.5       ]\n",
      " [ 7.37124548  7.45      ]\n",
      " [ 0.63401005  0.6       ]\n",
      " [ 0.1875381   0.2       ]\n",
      " [ 3.00222049  2.9       ]\n",
      " [ 2.70758043  2.85      ]\n",
      " [ 0.44396975  0.45      ]\n",
      " [ 3.00307178  2.75      ]\n",
      " [ 5.8164632   5.25      ]\n",
      " [ 9.6674296   9.7       ]\n",
      " [ 0.30339239  0.2       ]\n",
      " [ 5.39004874  5.95      ]\n",
      " [ 8.13191302  8.35      ]\n",
      " [ 5.64614703  5.75      ]\n",
      " [ 7.19759919  7.5       ]\n",
      " [ 5.00549488  5.2       ]\n",
      " [20.38624148 16.        ]\n",
      " [ 0.76618786  0.8       ]\n",
      " [ 0.42758702  0.4       ]\n",
      " [ 0.43393168  0.35      ]\n",
      " [ 5.96038904  4.9       ]\n",
      " [ 8.26173264  9.25      ]\n",
      " [ 0.33693109  0.38      ]\n",
      " [ 5.38049094  6.15      ]\n",
      " [17.6410106  19.75      ]\n",
      " [ 2.7191121   2.55      ]\n",
      " [ 7.37003599  6.85      ]\n",
      " [ 0.44601332  0.45      ]\n",
      " [ 6.89825197  7.05      ]\n",
      " [ 0.61086428  0.75      ]\n",
      " [ 0.76629839  0.9       ]\n",
      " [ 0.33742306  0.38      ]\n",
      " [ 0.42010789  0.4       ]\n",
      " [ 5.32038469  4.        ]\n",
      " [ 0.45522233  0.45      ]\n",
      " [ 0.18195921  0.12      ]\n",
      " [ 9.32244153 11.25      ]]\n"
     ]
    }
   ],
   "source": [
    "y_pred=rfr_random.predict(x_test)\n",
    "print(np.concatenate((y_pred.reshape(len(y_pred),1), y_test.reshape(len(y_test),1)),1))"
   ]
  },
  {
   "cell_type": "code",
   "execution_count": 56,
   "metadata": {
    "execution": {
     "iopub.execute_input": "2021-02-14T10:46:46.800721Z",
     "iopub.status.busy": "2021-02-14T10:46:46.788013Z",
     "iopub.status.idle": "2021-02-14T10:46:47.076574Z",
     "shell.execute_reply": "2021-02-14T10:46:47.074859Z"
    },
    "papermill": {
     "duration": 0.469653,
     "end_time": "2021-02-14T10:46:47.076759",
     "exception": false,
     "start_time": "2021-02-14T10:46:46.607106",
     "status": "completed"
    },
    "tags": []
   },
   "outputs": [
    {
     "data": {
      "text/plain": [
       "Text(0.5, 1.0, 'Random Forest Regressor Model')"
      ]
     },
     "execution_count": 56,
     "metadata": {},
     "output_type": "execute_result"
    },
    {
     "data": {
      "image/png": "[encoded data removed]",
      "text/plain": [
       "<Figure size 720x432 with 1 Axes>"
      ]
     },
     "metadata": {
      "needs_background": "light"
     },
     "output_type": "display_data"
    }
   ],
   "source": [
    "plt.figure(figsize=[10,6])\n",
    "plt.plot(y_pred,label='Predicted')\n",
    "plt.plot(y_test,label=\"Actual_test\")\n",
    "plt.legend()\n",
    "plt.title(\"Random Forest Regressor Model\")"
   ]
  },
  {
   "cell_type": "code",
   "execution_count": 57,
   "metadata": {
    "execution": {
     "iopub.execute_input": "2021-02-14T10:46:47.336235Z",
     "iopub.status.busy": "2021-02-14T10:46:47.335470Z",
     "iopub.status.idle": "2021-02-14T10:46:47.340476Z",
     "shell.execute_reply": "2021-02-14T10:46:47.339781Z"
    },
    "papermill": {
     "duration": 0.132968,
     "end_time": "2021-02-14T10:46:47.340642",
     "exception": false,
     "start_time": "2021-02-14T10:46:47.207674",
     "status": "completed"
    },
    "tags": []
   },
   "outputs": [
    {
     "name": "stdout",
     "output_type": "stream",
     "text": [
      "0.9636756600167484\n"
     ]
    }
   ],
   "source": [
    "rfr_r2=r2_score(y_test, y_pred)\n",
    "print(rfr_r2)"
   ]
  },
  {
   "cell_type": "code",
   "execution_count": 58,
   "metadata": {
    "execution": {
     "iopub.execute_input": "2021-02-14T10:46:47.600640Z",
     "iopub.status.busy": "2021-02-14T10:46:47.599660Z",
     "iopub.status.idle": "2021-02-14T10:46:47.616628Z",
     "shell.execute_reply": "2021-02-14T10:46:47.617412Z"
    },
    "papermill": {
     "duration": 0.161917,
     "end_time": "2021-02-14T10:46:47.617669",
     "exception": false,
     "start_time": "2021-02-14T10:46:47.455752",
     "status": "completed"
    },
    "tags": []
   },
   "outputs": [
    {
     "data": {
      "text/html": [
       "<div>\n",
       "<style scoped>\n",
       "    .dataframe tbody tr th:only-of-type {\n",
       "        vertical-align: middle;\n",
       "    }\n",
       "\n",
       "    .dataframe tbody tr th {\n",
       "        vertical-align: top;\n",
       "    }\n",
       "\n",
       "    .dataframe thead th {\n",
       "        text-align: right;\n",
       "    }\n",
       "</style>\n",
       "<table border=\"1\" class=\"dataframe\">\n",
       "  <thead>\n",
       "    <tr style=\"text-align: right;\">\n",
       "      <th></th>\n",
       "      <th>Models</th>\n",
       "      <th>R squared</th>\n",
       "    </tr>\n",
       "  </thead>\n",
       "  <tbody>\n",
       "    <tr>\n",
       "      <th>0</th>\n",
       "      <td>Linear Regression</td>\n",
       "      <td>0.850233</td>\n",
       "    </tr>\n",
       "    <tr>\n",
       "      <th>1</th>\n",
       "      <td>SupportVectorRegressor</td>\n",
       "      <td>0.860636</td>\n",
       "    </tr>\n",
       "    <tr>\n",
       "      <th>2</th>\n",
       "      <td>RandomForestRegressor</td>\n",
       "      <td>0.963676</td>\n",
       "    </tr>\n",
       "  </tbody>\n",
       "</table>\n",
       "</div>"
      ],
      "text/plain": [
       "                   Models  R squared\n",
       "0       Linear Regression   0.850233\n",
       "1  SupportVectorRegressor   0.860636\n",
       "2   RandomForestRegressor   0.963676"
      ]
     },
     "metadata": {},
     "output_type": "display_data"
    }
   ],
   "source": [
    "# comparing models R^2 \n",
    "model=[\"Linear Regression\",\"SupportVectorRegressor\",\"RandomForestRegressor\"]\n",
    "values=[lr_r2,svr_r2,rfr_r2]\n",
    "table=pd.DataFrame({\"Models\":model,\"R squared\":values})\n",
    "display(table)"
   ]
  }
 ],
 "metadata": {
  "kernelspec": {
   "display_name": "Python 3",
   "language": "python",
   "name": "python3"
  },
  "language_info": {
   "codemirror_mode": {
    "name": "ipython",
    "version": 3
   },
   "file_extension": ".py",
   "mimetype": "text/x-python",
   "name": "python",
   "nbconvert_exporter": "python",
   "pygments_lexer": "ipython3",
   "version": "3.7.6"
  },
  "papermill": {
   "default_parameters": {},
   "duration": 109.468074,
   "end_time": "2021-02-14T10:46:49.705526",
   "environment_variables": {},
   "exception": null,
   "input_path": "__notebook__.ipynb",
   "output_path": "__notebook__.ipynb",
   "parameters": {},
   "start_time": "2021-02-14T10:45:00.237452",
   "version": "2.2.2"
  }
 },
 "nbformat": 4,
 "nbformat_minor": 4
}
